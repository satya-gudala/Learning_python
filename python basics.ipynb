{
 "cells": [
  {
   "cell_type": "markdown",
   "id": "083d03a5",
   "metadata": {},
   "source": [
    "# BASICS ON PYTHON:\n",
    "## introduction\n",
    "### features\n",
    "### application&uses\n",
    "### advantages& disadvantages\n",
    "### current version\n",
    "### why it is called pyhton\n",
    "### interpreter&IDLE\n",
    "### keyword\n",
    "### comments & indentation\n",
    "### variables & identifiers\n",
    "### built-in-types"
   ]
  },
  {
   "cell_type": "markdown",
   "id": "3ab5b3d7",
   "metadata": {},
   "source": [
    "## Assigning the value of variables"
   ]
  },
  {
   "cell_type": "code",
   "execution_count": 1,
   "id": "a453fbd9",
   "metadata": {},
   "outputs": [
    {
     "name": "stdout",
     "output_type": "stream",
     "text": [
      "python basics\n"
     ]
    }
   ],
   "source": [
    "#BASIC form\n",
    "x=\"python basics\"\n",
    "print(x)"
   ]
  },
  {
   "cell_type": "code",
   "execution_count": 3,
   "id": "351ee840",
   "metadata": {},
   "outputs": [
    {
     "name": "stdout",
     "output_type": "stream",
     "text": [
      "X= 10\n",
      "Y= 20\n"
     ]
    }
   ],
   "source": [
    "#basic form used to list fun\n",
    "x,y=[10,20]\n",
    "print(\"X=\",x)\n",
    "print(\"Y=\",y)"
   ]
  },
  {
   "cell_type": "code",
   "execution_count": 4,
   "id": "77c8bb5e",
   "metadata": {},
   "outputs": [
    {
     "name": "stdout",
     "output_type": "stream",
     "text": [
      "name= satya\n",
      "initial= gudala\n"
     ]
    }
   ],
   "source": [
    "#basic form of tuple \n",
    "a,b=(\"satya\",\"gudala\")\n",
    "print(\"name=\",a)\n",
    "print(\"initial=\",b)"
   ]
  },
  {
   "cell_type": "code",
   "execution_count": 24,
   "id": "650ebc65",
   "metadata": {},
   "outputs": [
    {
     "data": {
      "text/plain": [
       "('H', 'a', 'i')"
      ]
     },
     "execution_count": 24,
     "metadata": {},
     "output_type": "execute_result"
    }
   ],
   "source": [
    "#sequence type of basic form\n",
    "a,b,c=\"Hai\"\n",
    "a,b,c"
   ]
  },
  {
   "cell_type": "code",
   "execution_count": 27,
   "id": "c8a1c510",
   "metadata": {},
   "outputs": [
    {
     "data": {
      "text/plain": [
       "('h', ['a', 'i', ' ', 'h', 'o', 'w', ' ', 'a', 'r', 'e', ' ', 'y', 'o', 'u'])"
      ]
     },
     "execution_count": 27,
     "metadata": {},
     "output_type": "execute_result"
    }
   ],
   "source": [
    "#unpacking sequence type\n",
    "x,*y=(\"hai how are you\")\n",
    "x,y"
   ]
  },
  {
   "cell_type": "code",
   "execution_count": 30,
   "id": "38b042ee",
   "metadata": {},
   "outputs": [
    {
     "data": {
      "text/plain": [
       "(20, 20, 20)"
      ]
     },
     "execution_count": 30,
     "metadata": {},
     "output_type": "execute_result"
    }
   ],
   "source": [
    "#multiple sequence\n",
    "a=b=c=20\n",
    "a , b, c"
   ]
  },
  {
   "cell_type": "code",
   "execution_count": 31,
   "id": "b3a40d0d",
   "metadata": {},
   "outputs": [
    {
     "name": "stdout",
     "output_type": "stream",
     "text": [
      "5\n"
     ]
    }
   ],
   "source": [
    "#agumented sequnce\n",
    "x=2\n",
    "x+=3\n",
    "print(x)"
   ]
  },
  {
   "cell_type": "markdown",
   "id": "43de2f31",
   "metadata": {},
   "source": [
    "## INPUT & OUTPUT FUNCTIONS:"
   ]
  },
  {
   "cell_type": "markdown",
   "id": "d1666ef0",
   "metadata": {},
   "source": [
    "## input funcion"
   ]
  },
  {
   "cell_type": "code",
   "execution_count": null,
   "id": "3b061fe4",
   "metadata": {},
   "outputs": [],
   "source": [
    "#input fun:input fun is used to read data from the keyword\n",
    "#read data into a specific formate\n",
    "#-> single input function\n",
    "a=input()\n",
    "#-> single input fun with request message\n",
    "a=input(\"enter the value\")\n",
    "#->multiple input with single line used split()\n",
    "a=input().split()"
   ]
  },
  {
   "cell_type": "markdown",
   "id": "3fc52530",
   "metadata": {},
   "source": [
    "## output funtion: \n",
    "print() fun print the spicified task& value on the screen"
   ]
  },
  {
   "cell_type": "code",
   "execution_count": null,
   "id": "d0cb9cb5",
   "metadata": {},
   "outputs": [],
   "source": [
    "#single o/p: x=(10);print(x)\n",
    "#dounle o/p: x=(10),y=(40);print(x)print(y)\n",
    "satya=(\"gudala\")\n",
    "print(satya)"
   ]
  },
  {
   "cell_type": "code",
   "execution_count": 1,
   "id": "80eb362c",
   "metadata": {},
   "outputs": [
    {
     "name": "stdout",
     "output_type": "stream",
     "text": [
      "satyagudala\n",
      "hello\n"
     ]
    }
   ],
   "source": [
    "x=(\"satyagudala\")\n",
    "y=(\"hello\")\n",
    "print(x)\n",
    "print(y)"
   ]
  },
  {
   "cell_type": "code",
   "execution_count": 14,
   "id": "4f64edbf",
   "metadata": {},
   "outputs": [
    {
     "name": "stdout",
     "output_type": "stream",
     "text": [
      "hii-  how- are-  you\n",
      "hello satya gudala welcome\n"
     ]
    }
   ],
   "source": [
    "#keyword argumentsused by sep() fun\n",
    "print(\"hii\",\" how\",\"are\",\" you\", sep=\"- \")\n",
    "#using the keyword argument of end() fun\n",
    "print(\"hello\",\"satya\",\"gudala\",end=\" \")\n",
    "print(\"welcome\")"
   ]
  },
  {
   "cell_type": "code",
   "execution_count": 21,
   "id": "ed7add1f",
   "metadata": {},
   "outputs": [
    {
     "name": "stdout",
     "output_type": "stream",
     "text": [
      "10 is int & 30.4 is a float & hai is string\n"
     ]
    }
   ],
   "source": [
    "#specific formate:\n",
    "a=10\n",
    "b=30.4\n",
    "c=\"hai\"\n",
    "print(a,\"is int &\",b,\"is a float &\",c,\"is string\")"
   ]
  },
  {
   "cell_type": "markdown",
   "id": "5bd95810",
   "metadata": {},
   "source": [
    "## operators:\n",
    "### arithematic,assignment,relational,logical,bitwise,membershi,indentity"
   ]
  },
  {
   "cell_type": "markdown",
   "id": "040fb5ee",
   "metadata": {},
   "source": [
    "### arithematic operator:"
   ]
  },
  {
   "cell_type": "code",
   "execution_count": 22,
   "id": "e5187663",
   "metadata": {},
   "outputs": [
    {
     "name": "stdout",
     "output_type": "stream",
     "text": [
      "5\n",
      "-1\n",
      "6\n",
      "0.6666666666666666\n",
      "2\n",
      "0\n"
     ]
    }
   ],
   "source": [
    "#arithmatic operators(+,-,*,/,%,//,**)\n",
    "a=2\n",
    "b=3\n",
    "print(a+b)\n",
    "print(a-b)\n",
    "print(a*b)\n",
    "print(a/b)\n",
    "print(a%b)\n",
    "print(a//b)"
   ]
  },
  {
   "cell_type": "markdown",
   "id": "1e390ee8",
   "metadata": {},
   "source": [
    "### relational operator:"
   ]
  },
  {
   "cell_type": "code",
   "execution_count": 28,
   "id": "60e72075",
   "metadata": {},
   "outputs": [
    {
     "name": "stdout",
     "output_type": "stream",
     "text": [
      "False\n",
      "True\n",
      "True\n",
      "False\n",
      "False\n",
      "True\n"
     ]
    }
   ],
   "source": [
    "#relational operators(>,<,>=,<=,==,=!)\n",
    "a=20\n",
    "b=50\n",
    "print(a>b)\n",
    "print(a<b)\n",
    "print(a<=b)\n",
    "print(a>=b)\n",
    "print(a==b)\n",
    "print(a!=b)"
   ]
  },
  {
   "cell_type": "markdown",
   "id": "69d415a2",
   "metadata": {},
   "source": [
    "### assignment operator:"
   ]
  },
  {
   "cell_type": "code",
   "execution_count": 63,
   "id": "e785176c",
   "metadata": {},
   "outputs": [
    {
     "data": {
      "text/plain": [
       "4"
      ]
     },
     "execution_count": 63,
     "metadata": {},
     "output_type": "execute_result"
    }
   ],
   "source": [
    "#assignemnt operator:(+=,-=,*=,/=,%=,//=,**=,<<=,>>=,!=,&=,^=)\n",
    "x=2\n",
    "x += 3\n",
    "x-= 3\n",
    "x *=3\n",
    "x &=3\n",
    "x **=3\n",
    "x !=5\n",
    "x //=6\n",
    "x >>=3\n",
    "x<<=2\n",
    "x ^= 4\n",
    "x"
   ]
  },
  {
   "cell_type": "markdown",
   "id": "bae741bc",
   "metadata": {},
   "source": [
    "### logical operator:"
   ]
  },
  {
   "cell_type": "code",
   "execution_count": 70,
   "id": "2cbacf15",
   "metadata": {},
   "outputs": [
    {
     "data": {
      "text/plain": [
       "True"
      ]
     },
     "execution_count": 70,
     "metadata": {},
     "output_type": "execute_result"
    }
   ],
   "source": [
    "#logical operators:(&,|,~(and,or,not))\n",
    "#AND:if both are true is true \n",
    "x=3\n",
    "(x>2 and x<5)\n",
    "#OR: if one statemnets are true is true\n",
    "x=3\n",
    "x>6 or x>6\n",
    "#not:true is false,false is true ,both are reverse\n",
    "x=3\n",
    "not(x>3 and x<3)"
   ]
  },
  {
   "cell_type": "markdown",
   "id": "34f79259",
   "metadata": {},
   "source": [
    "### Bitwise operators:"
   ]
  },
  {
   "cell_type": "code",
   "execution_count": 79,
   "id": "8704171c",
   "metadata": {},
   "outputs": [
    {
     "data": {
      "text/plain": [
       "0"
      ]
     },
     "execution_count": 79,
     "metadata": {},
     "output_type": "execute_result"
    }
   ],
   "source": [
    "#bitwise operator:(&,|,~,^,<<,>>(bitwise and,or not,xor,leftshift,rightshift))\n",
    "x=2\n",
    "y=3\n",
    "x&y\n",
    "x|y\n",
    "x^y\n",
    "x<<y\n",
    "x>>y"
   ]
  },
  {
   "cell_type": "markdown",
   "id": "c8060d6e",
   "metadata": {},
   "source": [
    "### membership operators:"
   ]
  },
  {
   "cell_type": "code",
   "execution_count": 87,
   "id": "dd9598db",
   "metadata": {},
   "outputs": [
    {
     "data": {
      "text/plain": [
       "False"
      ]
     },
     "execution_count": 87,
     "metadata": {},
     "output_type": "execute_result"
    }
   ],
   "source": [
    "#membership operator:(in ,not in)\n",
    "a= 10,30,50\n",
    "10 in a\n",
    "100 in a\n",
    "20 not in a\n",
    "30 in a\n",
    "50 not in a"
   ]
  },
  {
   "cell_type": "markdown",
   "id": "41ecaa03",
   "metadata": {},
   "source": [
    "### identity operators:"
   ]
  },
  {
   "cell_type": "code",
   "execution_count": 102,
   "id": "8a52b456",
   "metadata": {},
   "outputs": [
    {
     "data": {
      "text/plain": [
       "True"
      ]
     },
     "execution_count": 102,
     "metadata": {},
     "output_type": "execute_result"
    }
   ],
   "source": [
    "#identity operators(is,not is)\n",
    "# is: True;if both variables are same\n",
    "#not is: if both variables are not same\n",
    "a=(49,69,70,53)\n",
    "b=(49,69,70,48)\n",
    "c=a\n",
    "a is b\n",
    "a is c"
   ]
  },
  {
   "cell_type": "markdown",
   "id": "6d445d87",
   "metadata": {},
   "source": [
    "### Math & Random modules:\n",
    "#### Math module:"
   ]
  },
  {
   "cell_type": "code",
   "execution_count": 123,
   "id": "caa1c04e",
   "metadata": {},
   "outputs": [
    {
     "data": {
      "text/plain": [
       "6.283185307179586"
      ]
     },
     "execution_count": 123,
     "metadata": {},
     "output_type": "execute_result"
    }
   ],
   "source": [
    "#math module:math modules is a no.of functions\n",
    "import math\n",
    "math.ceil(10.7)\n",
    "math.floor(11.2)\n",
    "a=3\n",
    "b=-5\n",
    "math.copysign(a,b)\n",
    "math.fabs(10.4)\n",
    "math.factorial(5)\n",
    "s=(10,20,34,56,76)\n",
    "math.fsum(s)\n",
    "math.gcd(30,7)\n",
    "math.pow(2,4)\n",
    "#constant values:\n",
    "math.sqrt(4)\n",
    "math.cos(60)\n",
    "math.sin(60)\n",
    "math.tan(60)\n",
    "math.e\n",
    "math.pi\n",
    "math.tau"
   ]
  },
  {
   "cell_type": "markdown",
   "id": "330bc4f1",
   "metadata": {},
   "source": [
    "#### Random module:"
   ]
  },
  {
   "cell_type": "code",
   "execution_count": 136,
   "id": "d564e4e9",
   "metadata": {},
   "outputs": [
    {
     "data": {
      "text/plain": [
       "10.454708750192003"
      ]
     },
     "execution_count": 136,
     "metadata": {},
     "output_type": "execute_result"
    }
   ],
   "source": [
    "import random\n",
    "l=[10,39,59]\n",
    "random.choices(l)\n",
    "random.randrange(1,20,2)\n",
    "random.random()\n",
    "random.shuffle(l)\n",
    "l\n",
    "random.uniform(10,13)"
   ]
  },
  {
   "cell_type": "markdown",
   "id": "cd2ef752",
   "metadata": {},
   "source": [
    "# Built in types:\n",
    "### numeric data type: int,float,complex\n",
    "### sequnce data type: list[],tuple(),range()\n",
    "### mapping data type: dictionary{:}\n",
    "### set data type: set{},frozen set{},\n",
    "### string data type: str(\" \")\n"
   ]
  },
  {
   "cell_type": "markdown",
   "id": "5a523373",
   "metadata": {},
   "source": [
    "# --> numeric data type:"
   ]
  },
  {
   "cell_type": "code",
   "execution_count": 8,
   "id": "7fbc6f25",
   "metadata": {},
   "outputs": [
    {
     "name": "stdout",
     "output_type": "stream",
     "text": [
      "<class 'int'>\n",
      "20\n",
      "<class 'float'>\n",
      "56.66\n",
      "<class 'complex'>\n",
      "43j\n"
     ]
    }
   ],
   "source": [
    "#numeric data type :there is three types of data(int,float,complex)\n",
    "#int :integer is whole numbers ,positive or negative and without decimal points are unlimited length.\n",
    "a=20\n",
    "print(type(a))\n",
    "print(a)\n",
    "#float:floating point of numbers ,positive or negative with decimal points.\n",
    "x=56.66\n",
    "print(type(x))\n",
    "print(x)\n",
    "#complex: complex is number of writtens with 'j' thisi is complex data.\n",
    "a=43j\n",
    "print(type(a))\n",
    "print(a)"
   ]
  },
  {
   "cell_type": "markdown",
   "id": "f0211c77",
   "metadata": {},
   "source": [
    "# --> mapping data type:"
   ]
  },
  {
   "cell_type": "code",
   "execution_count": 10,
   "id": "24f76e5d",
   "metadata": {},
   "outputs": [
    {
     "name": "stdout",
     "output_type": "stream",
     "text": [
      "<class 'dict'>\n"
     ]
    }
   ],
   "source": [
    "#mapping data type: dictionary data type : dict() creates the dict.the dict() is a collection of which is unorder \n",
    "# changeable and indexing. dict is a mutable data type.there are tow data types values&keys.values always duplicate ,\n",
    "#no duplicates of keys.\n",
    "a=dict()\n",
    "print(type(a))"
   ]
  },
  {
   "cell_type": "code",
   "execution_count": 12,
   "id": "4e064b22",
   "metadata": {},
   "outputs": [
    {
     "data": {
      "text/plain": [
       "dict"
      ]
     },
     "execution_count": 12,
     "metadata": {},
     "output_type": "execute_result"
    }
   ],
   "source": [
    "#creating a dict()\n",
    "a={}\n",
    "type(a)"
   ]
  },
  {
   "cell_type": "code",
   "execution_count": 14,
   "id": "df4a7875",
   "metadata": {},
   "outputs": [
    {
     "data": {
      "text/plain": [
       "{'fname': 'satya', 'lanme': 'gudala', 'no': 23456, 'gender': 'female'}"
      ]
     },
     "execution_count": 14,
     "metadata": {},
     "output_type": "execute_result"
    }
   ],
   "source": [
    "# accessing the item of dict()\n",
    "a={'fname':'satya','lanme':'gudala','no':23456,'gender':'female'}\n",
    "a"
   ]
  },
  {
   "cell_type": "code",
   "execution_count": 60,
   "id": "cd276816",
   "metadata": {
    "scrolled": true
   },
   "outputs": [
    {
     "data": {
      "text/plain": [
       "{'fname': 'sweety', 'school': 'high school'}"
      ]
     },
     "execution_count": 60,
     "metadata": {},
     "output_type": "execute_result"
    }
   ],
   "source": [
    "# reassining the dict() or updating the dict()\n",
    "a['fname']=\"sweety\"\n",
    "a['school']=\"high school\"\n",
    "a"
   ]
  },
  {
   "cell_type": "code",
   "execution_count": 70,
   "id": "163a7ec9",
   "metadata": {},
   "outputs": [],
   "source": [
    "#basic operations:items(),keys,values,copy,clear\n",
    "a.items()\n",
    "a.keys()\n",
    "a.values()\n",
    "s=a.copy()\n",
    "s.clear()"
   ]
  },
  {
   "cell_type": "code",
   "execution_count": 72,
   "id": "cfaa72f2",
   "metadata": {},
   "outputs": [
    {
     "data": {
      "text/plain": [
       "{0: 0, 2: 4, 4: 8, 6: 12, 8: 16}"
      ]
     },
     "execution_count": 72,
     "metadata": {},
     "output_type": "execute_result"
    }
   ],
   "source": [
    "#dict comprehenssion: \n",
    "a={i:i*2 for i in range(10) if i%2==0}\n",
    "a"
   ]
  },
  {
   "cell_type": "markdown",
   "id": "de6254cb",
   "metadata": {},
   "source": [
    "# --> set data type:"
   ]
  },
  {
   "cell_type": "code",
   "execution_count": 3,
   "id": "cbf70762",
   "metadata": {},
   "outputs": [
    {
     "data": {
      "text/plain": [
       "set"
      ]
     },
     "execution_count": 3,
     "metadata": {},
     "output_type": "execute_result"
    }
   ],
   "source": [
    "#set data type :set is collection of ele in single variable.set is mutable,and coma seperated values,accessing the multiple el.\n",
    "#set is collection of which is unorder,and unchangeable,unindexing.\n",
    "#creating a set:\n",
    "a=set()\n",
    "type(a)"
   ]
  },
  {
   "cell_type": "code",
   "execution_count": 5,
   "id": "fd0dc1e3",
   "metadata": {},
   "outputs": [
    {
     "data": {
      "text/plain": [
       "{20, 40, 60, 80}"
      ]
     },
     "execution_count": 5,
     "metadata": {},
     "output_type": "execute_result"
    }
   ],
   "source": [
    "#accessing the ele of set:\n",
    "a={20,40,60,80}\n",
    "a"
   ]
  },
  {
   "cell_type": "code",
   "execution_count": 10,
   "id": "92c23da4",
   "metadata": {},
   "outputs": [
    {
     "data": {
      "text/plain": [
       "{20, 40, 50, 60, 80}"
      ]
     },
     "execution_count": 10,
     "metadata": {},
     "output_type": "execute_result"
    }
   ],
   "source": [
    "#reassining the ele in set:\n",
    "a.add(50)\n",
    "a"
   ]
  },
  {
   "cell_type": "code",
   "execution_count": 12,
   "id": "3e4ce4d0",
   "metadata": {},
   "outputs": [
    {
     "data": {
      "text/plain": [
       "{20, 40, 50, 60}"
      ]
     },
     "execution_count": 12,
     "metadata": {},
     "output_type": "execute_result"
    }
   ],
   "source": [
    "a.remove(80)\n",
    "a"
   ]
  },
  {
   "cell_type": "code",
   "execution_count": 13,
   "id": "6b15db29",
   "metadata": {},
   "outputs": [
    {
     "data": {
      "text/plain": [
       "{20, 40, 50}"
      ]
     },
     "execution_count": 13,
     "metadata": {},
     "output_type": "execute_result"
    }
   ],
   "source": [
    "a.discard(60)\n",
    "a"
   ]
  },
  {
   "cell_type": "code",
   "execution_count": 14,
   "id": "18ac0c5e",
   "metadata": {},
   "outputs": [
    {
     "data": {
      "text/plain": [
       "40"
      ]
     },
     "execution_count": 14,
     "metadata": {},
     "output_type": "execute_result"
    }
   ],
   "source": [
    "a.pop()"
   ]
  },
  {
   "cell_type": "code",
   "execution_count": 16,
   "id": "b8508cb6",
   "metadata": {},
   "outputs": [
    {
     "data": {
      "text/plain": [
       "set()"
      ]
     },
     "execution_count": 16,
     "metadata": {},
     "output_type": "execute_result"
    }
   ],
   "source": [
    "a.clear()\n",
    "a"
   ]
  },
  {
   "cell_type": "code",
   "execution_count": 17,
   "id": "17dcd496",
   "metadata": {},
   "outputs": [
    {
     "data": {
      "text/plain": [
       "{10, 20, 30, 40, 50, 60}"
      ]
     },
     "execution_count": 17,
     "metadata": {},
     "output_type": "execute_result"
    }
   ],
   "source": [
    "a={10,20,30,40,50,60}\n",
    "a"
   ]
  },
  {
   "cell_type": "code",
   "execution_count": 18,
   "id": "eca45aea",
   "metadata": {},
   "outputs": [
    {
     "data": {
      "text/plain": [
       "True"
      ]
     },
     "execution_count": 18,
     "metadata": {},
     "output_type": "execute_result"
    }
   ],
   "source": [
    "10 in a"
   ]
  },
  {
   "cell_type": "code",
   "execution_count": 19,
   "id": "f4ad2c51",
   "metadata": {},
   "outputs": [
    {
     "data": {
      "text/plain": [
       "False"
      ]
     },
     "execution_count": 19,
     "metadata": {},
     "output_type": "execute_result"
    }
   ],
   "source": [
    "20 not in a"
   ]
  },
  {
   "cell_type": "code",
   "execution_count": 21,
   "id": "b8f647d6",
   "metadata": {},
   "outputs": [
    {
     "data": {
      "text/plain": [
       "True"
      ]
     },
     "execution_count": 21,
     "metadata": {},
     "output_type": "execute_result"
    }
   ],
   "source": [
    "30 in a"
   ]
  },
  {
   "cell_type": "code",
   "execution_count": 22,
   "id": "ad39ccc7",
   "metadata": {},
   "outputs": [
    {
     "data": {
      "text/plain": [
       "True"
      ]
     },
     "execution_count": 22,
     "metadata": {},
     "output_type": "execute_result"
    }
   ],
   "source": [
    "100 not in a"
   ]
  },
  {
   "cell_type": "code",
   "execution_count": 31,
   "id": "b06c71a7",
   "metadata": {},
   "outputs": [
    {
     "name": "stdout",
     "output_type": "stream",
     "text": [
      "0\n",
      "1\n",
      "2\n",
      "3\n",
      "4\n",
      "5\n"
     ]
    }
   ],
   "source": [
    "for i in range(len(a)):\n",
    "    print(i)"
   ]
  },
  {
   "cell_type": "code",
   "execution_count": 32,
   "id": "91c97b02",
   "metadata": {},
   "outputs": [
    {
     "data": {
      "text/plain": [
       "True"
      ]
     },
     "execution_count": 32,
     "metadata": {},
     "output_type": "execute_result"
    }
   ],
   "source": [
    "a={10,20,30}\n",
    "b={10,20,30,40,50,60}\n",
    "a.issubset(b)"
   ]
  },
  {
   "cell_type": "code",
   "execution_count": 33,
   "id": "cd05e264",
   "metadata": {},
   "outputs": [
    {
     "data": {
      "text/plain": [
       "False"
      ]
     },
     "execution_count": 33,
     "metadata": {},
     "output_type": "execute_result"
    }
   ],
   "source": [
    "b.issubset(a)"
   ]
  },
  {
   "cell_type": "code",
   "execution_count": 34,
   "id": "14101bc2",
   "metadata": {},
   "outputs": [
    {
     "data": {
      "text/plain": [
       "False"
      ]
     },
     "execution_count": 34,
     "metadata": {},
     "output_type": "execute_result"
    }
   ],
   "source": [
    "a.issuperset(b)"
   ]
  },
  {
   "cell_type": "code",
   "execution_count": 36,
   "id": "684f6614",
   "metadata": {},
   "outputs": [
    {
     "data": {
      "text/plain": [
       "True"
      ]
     },
     "execution_count": 36,
     "metadata": {},
     "output_type": "execute_result"
    }
   ],
   "source": [
    "b.issuperset(a)"
   ]
  },
  {
   "cell_type": "code",
   "execution_count": 37,
   "id": "a02ec238",
   "metadata": {},
   "outputs": [
    {
     "data": {
      "text/plain": [
       "{10, 20, 30, 40, 50, 60}"
      ]
     },
     "execution_count": 37,
     "metadata": {},
     "output_type": "execute_result"
    }
   ],
   "source": [
    "a.union(b)"
   ]
  },
  {
   "cell_type": "code",
   "execution_count": 38,
   "id": "89a39ac1",
   "metadata": {},
   "outputs": [
    {
     "data": {
      "text/plain": [
       "{10, 20, 30}"
      ]
     },
     "execution_count": 38,
     "metadata": {},
     "output_type": "execute_result"
    }
   ],
   "source": [
    "a.intersection(b)"
   ]
  },
  {
   "cell_type": "code",
   "execution_count": 39,
   "id": "c283aa8d",
   "metadata": {},
   "outputs": [
    {
     "data": {
      "text/plain": [
       "set()"
      ]
     },
     "execution_count": 39,
     "metadata": {},
     "output_type": "execute_result"
    }
   ],
   "source": [
    "a.difference(b)"
   ]
  },
  {
   "cell_type": "code",
   "execution_count": 40,
   "id": "40cf9954",
   "metadata": {},
   "outputs": [
    {
     "data": {
      "text/plain": [
       "{40, 50, 60}"
      ]
     },
     "execution_count": 40,
     "metadata": {},
     "output_type": "execute_result"
    }
   ],
   "source": [
    "b.difference(a)"
   ]
  },
  {
   "cell_type": "code",
   "execution_count": 41,
   "id": "bf19f4a2",
   "metadata": {},
   "outputs": [
    {
     "data": {
      "text/plain": [
       "{40, 50, 60}"
      ]
     },
     "execution_count": 41,
     "metadata": {},
     "output_type": "execute_result"
    }
   ],
   "source": [
    "a.symmetric_difference(b)"
   ]
  },
  {
   "cell_type": "code",
   "execution_count": 43,
   "id": "da981609",
   "metadata": {},
   "outputs": [
    {
     "data": {
      "text/plain": [
       "{10, 20, 30, 40, 50, 60}"
      ]
     },
     "execution_count": 43,
     "metadata": {},
     "output_type": "execute_result"
    }
   ],
   "source": [
    "a.update(b)\n",
    "a"
   ]
  },
  {
   "cell_type": "code",
   "execution_count": 47,
   "id": "84860e06",
   "metadata": {},
   "outputs": [
    {
     "data": {
      "text/plain": [
       "({10, 20, 30, 40, 50, 60}, {10, 20, 30, 40, 50, 60})"
      ]
     },
     "execution_count": 47,
     "metadata": {},
     "output_type": "execute_result"
    }
   ],
   "source": [
    "a.intersection_update(b)\n",
    "a,b"
   ]
  },
  {
   "cell_type": "markdown",
   "id": "3acbc4c9",
   "metadata": {},
   "source": [
    "## STRING DATA TYPE():"
   ]
  },
  {
   "cell_type": "code",
   "execution_count": 48,
   "id": "c44cdd23",
   "metadata": {},
   "outputs": [],
   "source": [
    "str=(\"\")"
   ]
  },
  {
   "cell_type": "code",
   "execution_count": 49,
   "id": "279133f5",
   "metadata": {},
   "outputs": [
    {
     "data": {
      "text/plain": [
       "str"
      ]
     },
     "execution_count": 49,
     "metadata": {},
     "output_type": "execute_result"
    }
   ],
   "source": [
    "type(str)"
   ]
  },
  {
   "cell_type": "code",
   "execution_count": 50,
   "id": "abef00d8",
   "metadata": {},
   "outputs": [
    {
     "data": {
      "text/plain": [
       "'satyavathi gudala'"
      ]
     },
     "execution_count": 50,
     "metadata": {},
     "output_type": "execute_result"
    }
   ],
   "source": [
    "a=(\"satyavathi gudala\")\n",
    "a"
   ]
  },
  {
   "cell_type": "code",
   "execution_count": 51,
   "id": "0834b4b5",
   "metadata": {},
   "outputs": [
    {
     "data": {
      "text/plain": [
       "('satya', 'vathi', 'gudala', 'vamsi', 'kumar')"
      ]
     },
     "execution_count": 51,
     "metadata": {},
     "output_type": "execute_result"
    }
   ],
   "source": [
    "a=(\"satya\",\"vathi\",\"gudala\",\"vamsi\",\"kumar\")\n",
    "a"
   ]
  },
  {
   "cell_type": "code",
   "execution_count": 52,
   "id": "c658c687",
   "metadata": {},
   "outputs": [
    {
     "data": {
      "text/plain": [
       "'satya'"
      ]
     },
     "execution_count": 52,
     "metadata": {},
     "output_type": "execute_result"
    }
   ],
   "source": [
    "a[0]"
   ]
  },
  {
   "cell_type": "code",
   "execution_count": 53,
   "id": "692c4968",
   "metadata": {},
   "outputs": [
    {
     "data": {
      "text/plain": [
       "'gudala'"
      ]
     },
     "execution_count": 53,
     "metadata": {},
     "output_type": "execute_result"
    }
   ],
   "source": [
    "a[2]"
   ]
  },
  {
   "cell_type": "code",
   "execution_count": 54,
   "id": "17630ba1",
   "metadata": {},
   "outputs": [
    {
     "data": {
      "text/plain": [
       "('satya', 'vathi', 'gudala', 'vamsi', 'kumar')"
      ]
     },
     "execution_count": 54,
     "metadata": {},
     "output_type": "execute_result"
    }
   ],
   "source": [
    "a[0:]"
   ]
  },
  {
   "cell_type": "code",
   "execution_count": 55,
   "id": "c6262233",
   "metadata": {},
   "outputs": [
    {
     "data": {
      "text/plain": [
       "('satya', 'vathi', 'gudala', 'vamsi')"
      ]
     },
     "execution_count": 55,
     "metadata": {},
     "output_type": "execute_result"
    }
   ],
   "source": [
    "a[0:4]"
   ]
  },
  {
   "cell_type": "code",
   "execution_count": 56,
   "id": "b5762fad",
   "metadata": {},
   "outputs": [
    {
     "data": {
      "text/plain": [
       "('satya', 'vathi', 'gudala')"
      ]
     },
     "execution_count": 56,
     "metadata": {},
     "output_type": "execute_result"
    }
   ],
   "source": [
    "a[:3]"
   ]
  },
  {
   "cell_type": "code",
   "execution_count": 57,
   "id": "0de6e6b8",
   "metadata": {},
   "outputs": [
    {
     "data": {
      "text/plain": [
       "('gudala', 'vamsi', 'kumar')"
      ]
     },
     "execution_count": 57,
     "metadata": {},
     "output_type": "execute_result"
    }
   ],
   "source": [
    "a[2:]"
   ]
  },
  {
   "cell_type": "code",
   "execution_count": 60,
   "id": "1a69d415",
   "metadata": {},
   "outputs": [],
   "source": [
    "a=(\"'satya'\")"
   ]
  },
  {
   "cell_type": "code",
   "execution_count": 61,
   "id": "393b1f30",
   "metadata": {},
   "outputs": [
    {
     "data": {
      "text/plain": [
       "\"'satya'\""
      ]
     },
     "execution_count": 61,
     "metadata": {},
     "output_type": "execute_result"
    }
   ],
   "source": [
    "a"
   ]
  },
  {
   "cell_type": "code",
   "execution_count": 62,
   "id": "50b20128",
   "metadata": {},
   "outputs": [
    {
     "data": {
      "text/plain": [
       "'satyavathi'"
      ]
     },
     "execution_count": 62,
     "metadata": {},
     "output_type": "execute_result"
    }
   ],
   "source": [
    "a=(\"satyavathi\")\n",
    "a"
   ]
  },
  {
   "cell_type": "code",
   "execution_count": 63,
   "id": "11f03b98",
   "metadata": {},
   "outputs": [
    {
     "data": {
      "text/plain": [
       "10"
      ]
     },
     "execution_count": 63,
     "metadata": {},
     "output_type": "execute_result"
    }
   ],
   "source": [
    "len(a)"
   ]
  },
  {
   "cell_type": "code",
   "execution_count": 64,
   "id": "7bc6caa9",
   "metadata": {},
   "outputs": [
    {
     "data": {
      "text/plain": [
       "'a'"
      ]
     },
     "execution_count": 64,
     "metadata": {},
     "output_type": "execute_result"
    }
   ],
   "source": [
    "min(a)"
   ]
  },
  {
   "cell_type": "code",
   "execution_count": 65,
   "id": "807671e1",
   "metadata": {},
   "outputs": [
    {
     "data": {
      "text/plain": [
       "'y'"
      ]
     },
     "execution_count": 65,
     "metadata": {},
     "output_type": "execute_result"
    }
   ],
   "source": [
    "max(a)"
   ]
  },
  {
   "cell_type": "code",
   "execution_count": 67,
   "id": "58e092b7",
   "metadata": {},
   "outputs": [
    {
     "data": {
      "text/plain": [
       "'gudala'"
      ]
     },
     "execution_count": 67,
     "metadata": {},
     "output_type": "execute_result"
    }
   ],
   "source": [
    "b=(\"gudala\")\n",
    "b"
   ]
  },
  {
   "cell_type": "code",
   "execution_count": 68,
   "id": "99b9d5e8",
   "metadata": {},
   "outputs": [
    {
     "data": {
      "text/plain": [
       "('satyavathi', 'gudala')"
      ]
     },
     "execution_count": 68,
     "metadata": {},
     "output_type": "execute_result"
    }
   ],
   "source": [
    "a,b"
   ]
  },
  {
   "cell_type": "code",
   "execution_count": 79,
   "id": "edaccae4",
   "metadata": {},
   "outputs": [
    {
     "data": {
      "text/plain": [
       "'()is a string fun and () is integer number'"
      ]
     },
     "execution_count": 79,
     "metadata": {},
     "output_type": "execute_result"
    }
   ],
   "source": [
    "(\"()is a string fun and () is integer number\".format(str,5))"
   ]
  },
  {
   "cell_type": "code",
   "execution_count": 80,
   "id": "1ac660fc",
   "metadata": {},
   "outputs": [
    {
     "data": {
      "text/plain": [
       "'satyavathi'"
      ]
     },
     "execution_count": 80,
     "metadata": {},
     "output_type": "execute_result"
    }
   ],
   "source": [
    "a"
   ]
  },
  {
   "cell_type": "code",
   "execution_count": 82,
   "id": "7492ba9b",
   "metadata": {},
   "outputs": [
    {
     "data": {
      "text/plain": [
       "'Satyavathi'"
      ]
     },
     "execution_count": 82,
     "metadata": {},
     "output_type": "execute_result"
    }
   ],
   "source": [
    "a.capitalize()"
   ]
  },
  {
   "cell_type": "code",
   "execution_count": 90,
   "id": "c7f39a5f",
   "metadata": {},
   "outputs": [
    {
     "data": {
      "text/plain": [
       "1"
      ]
     },
     "execution_count": 90,
     "metadata": {},
     "output_type": "execute_result"
    }
   ],
   "source": [
    "a.count('satya')"
   ]
  },
  {
   "cell_type": "code",
   "execution_count": 98,
   "id": "a03a5e9f",
   "metadata": {},
   "outputs": [
    {
     "data": {
      "text/plain": [
       "1"
      ]
     },
     "execution_count": 98,
     "metadata": {},
     "output_type": "execute_result"
    }
   ],
   "source": [
    "a.count('y')"
   ]
  },
  {
   "cell_type": "code",
   "execution_count": 93,
   "id": "c3d06d77",
   "metadata": {},
   "outputs": [
    {
     "data": {
      "text/plain": [
       "1"
      ]
     },
     "execution_count": 93,
     "metadata": {},
     "output_type": "execute_result"
    }
   ],
   "source": [
    "a.count('thi')"
   ]
  },
  {
   "cell_type": "code",
   "execution_count": 97,
   "id": "71962aef",
   "metadata": {},
   "outputs": [
    {
     "data": {
      "text/plain": [
       "2"
      ]
     },
     "execution_count": 97,
     "metadata": {},
     "output_type": "execute_result"
    }
   ],
   "source": [
    "a.count('t')"
   ]
  },
  {
   "cell_type": "code",
   "execution_count": 99,
   "id": "ac7f8106",
   "metadata": {},
   "outputs": [
    {
     "data": {
      "text/plain": [
       "1"
      ]
     },
     "execution_count": 99,
     "metadata": {},
     "output_type": "execute_result"
    }
   ],
   "source": [
    "a.count('h')"
   ]
  },
  {
   "cell_type": "code",
   "execution_count": 102,
   "id": "b6c2fb5d",
   "metadata": {},
   "outputs": [
    {
     "data": {
      "text/plain": [
       "'*****satyavathi*****'"
      ]
     },
     "execution_count": 102,
     "metadata": {},
     "output_type": "execute_result"
    }
   ],
   "source": [
    "a.center(20,'*')"
   ]
  },
  {
   "cell_type": "code",
   "execution_count": 103,
   "id": "21a2eab7",
   "metadata": {},
   "outputs": [
    {
     "data": {
      "text/plain": [
       "'&&&satyavathi&&'"
      ]
     },
     "execution_count": 103,
     "metadata": {},
     "output_type": "execute_result"
    }
   ],
   "source": [
    "a.center(15,\"&\")"
   ]
  },
  {
   "cell_type": "code",
   "execution_count": 104,
   "id": "edaf542b",
   "metadata": {},
   "outputs": [
    {
     "data": {
      "text/plain": [
       "'satyavathi'"
      ]
     },
     "execution_count": 104,
     "metadata": {},
     "output_type": "execute_result"
    }
   ],
   "source": [
    "a.center(10)"
   ]
  },
  {
   "cell_type": "code",
   "execution_count": 105,
   "id": "19441edd",
   "metadata": {},
   "outputs": [
    {
     "data": {
      "text/plain": [
       "False"
      ]
     },
     "execution_count": 105,
     "metadata": {},
     "output_type": "execute_result"
    }
   ],
   "source": [
    "a.endswith('d')"
   ]
  },
  {
   "cell_type": "code",
   "execution_count": 106,
   "id": "610966c4",
   "metadata": {},
   "outputs": [
    {
     "data": {
      "text/plain": [
       "True"
      ]
     },
     "execution_count": 106,
     "metadata": {},
     "output_type": "execute_result"
    }
   ],
   "source": [
    "a.endswith('i')"
   ]
  },
  {
   "cell_type": "code",
   "execution_count": 107,
   "id": "f78301b7",
   "metadata": {},
   "outputs": [
    {
     "data": {
      "text/plain": [
       "False"
      ]
     },
     "execution_count": 107,
     "metadata": {},
     "output_type": "execute_result"
    }
   ],
   "source": [
    "a.startswith('f')"
   ]
  },
  {
   "cell_type": "code",
   "execution_count": 108,
   "id": "ce140a74",
   "metadata": {},
   "outputs": [
    {
     "data": {
      "text/plain": [
       "True"
      ]
     },
     "execution_count": 108,
     "metadata": {},
     "output_type": "execute_result"
    }
   ],
   "source": [
    "a.startswith('s')"
   ]
  },
  {
   "cell_type": "code",
   "execution_count": 110,
   "id": "0524974b",
   "metadata": {},
   "outputs": [
    {
     "data": {
      "text/plain": [
       "2"
      ]
     },
     "execution_count": 110,
     "metadata": {},
     "output_type": "execute_result"
    }
   ],
   "source": [
    "a.find('t')"
   ]
  },
  {
   "cell_type": "code",
   "execution_count": 111,
   "id": "b24a56ae",
   "metadata": {},
   "outputs": [
    {
     "data": {
      "text/plain": [
       "8"
      ]
     },
     "execution_count": 111,
     "metadata": {},
     "output_type": "execute_result"
    }
   ],
   "source": [
    "a.find('h')"
   ]
  },
  {
   "cell_type": "code",
   "execution_count": 112,
   "id": "214cc342",
   "metadata": {},
   "outputs": [
    {
     "data": {
      "text/plain": [
       "0"
      ]
     },
     "execution_count": 112,
     "metadata": {},
     "output_type": "execute_result"
    }
   ],
   "source": [
    "a.rfind('s')"
   ]
  },
  {
   "cell_type": "code",
   "execution_count": 113,
   "id": "cfd071bc",
   "metadata": {},
   "outputs": [
    {
     "data": {
      "text/plain": [
       "3"
      ]
     },
     "execution_count": 113,
     "metadata": {},
     "output_type": "execute_result"
    }
   ],
   "source": [
    "a.rfind('y')"
   ]
  },
  {
   "cell_type": "code",
   "execution_count": 115,
   "id": "ff7be3f0",
   "metadata": {},
   "outputs": [
    {
     "data": {
      "text/plain": [
       "3"
      ]
     },
     "execution_count": 115,
     "metadata": {},
     "output_type": "execute_result"
    }
   ],
   "source": [
    "a.index('y')"
   ]
  },
  {
   "cell_type": "code",
   "execution_count": 116,
   "id": "a722992f",
   "metadata": {},
   "outputs": [
    {
     "data": {
      "text/plain": [
       "9"
      ]
     },
     "execution_count": 116,
     "metadata": {},
     "output_type": "execute_result"
    }
   ],
   "source": [
    "a.index('i')"
   ]
  },
  {
   "cell_type": "code",
   "execution_count": 117,
   "id": "5120cb9c",
   "metadata": {},
   "outputs": [
    {
     "data": {
      "text/plain": [
       "9"
      ]
     },
     "execution_count": 117,
     "metadata": {},
     "output_type": "execute_result"
    }
   ],
   "source": [
    "a.rindex('i')"
   ]
  },
  {
   "cell_type": "code",
   "execution_count": 121,
   "id": "a902adc0",
   "metadata": {},
   "outputs": [
    {
     "data": {
      "text/plain": [
       "'kjudh6737736'"
      ]
     },
     "execution_count": 121,
     "metadata": {},
     "output_type": "execute_result"
    }
   ],
   "source": [
    "a=(\"kjudh6737736\")\n",
    "a"
   ]
  },
  {
   "cell_type": "code",
   "execution_count": 122,
   "id": "5071584a",
   "metadata": {},
   "outputs": [
    {
     "data": {
      "text/plain": [
       "True"
      ]
     },
     "execution_count": 122,
     "metadata": {},
     "output_type": "execute_result"
    }
   ],
   "source": [
    "a.isalnum()"
   ]
  },
  {
   "cell_type": "code",
   "execution_count": 123,
   "id": "f8115e9f",
   "metadata": {},
   "outputs": [
    {
     "data": {
      "text/plain": [
       "False"
      ]
     },
     "execution_count": 123,
     "metadata": {},
     "output_type": "execute_result"
    }
   ],
   "source": [
    "a.isalpha()"
   ]
  },
  {
   "cell_type": "code",
   "execution_count": 124,
   "id": "feb1624e",
   "metadata": {},
   "outputs": [
    {
     "data": {
      "text/plain": [
       "False"
      ]
     },
     "execution_count": 124,
     "metadata": {},
     "output_type": "execute_result"
    }
   ],
   "source": [
    "a.isdigit()"
   ]
  },
  {
   "cell_type": "code",
   "execution_count": 125,
   "id": "1007a5e4",
   "metadata": {},
   "outputs": [
    {
     "data": {
      "text/plain": [
       "'vamsi'"
      ]
     },
     "execution_count": 125,
     "metadata": {},
     "output_type": "execute_result"
    }
   ],
   "source": [
    "a=(\"vamsi\")\n",
    "a"
   ]
  },
  {
   "cell_type": "code",
   "execution_count": 126,
   "id": "00d6e78e",
   "metadata": {},
   "outputs": [
    {
     "data": {
      "text/plain": [
       "True"
      ]
     },
     "execution_count": 126,
     "metadata": {},
     "output_type": "execute_result"
    }
   ],
   "source": [
    "a.isalpha()"
   ]
  },
  {
   "cell_type": "code",
   "execution_count": 128,
   "id": "3149b71d",
   "metadata": {},
   "outputs": [
    {
     "data": {
      "text/plain": [
       "True"
      ]
     },
     "execution_count": 128,
     "metadata": {},
     "output_type": "execute_result"
    }
   ],
   "source": [
    "a=('7384')\n",
    "a.isdigit()"
   ]
  },
  {
   "cell_type": "code",
   "execution_count": 134,
   "id": "b78fea71",
   "metadata": {},
   "outputs": [
    {
     "data": {
      "text/plain": [
       "False"
      ]
     },
     "execution_count": 134,
     "metadata": {},
     "output_type": "execute_result"
    }
   ],
   "source": [
    "a=('vamsi kumar')\n",
    "a.isspace()"
   ]
  },
  {
   "cell_type": "code",
   "execution_count": 136,
   "id": "ebf39356",
   "metadata": {},
   "outputs": [
    {
     "data": {
      "text/plain": [
       "True"
      ]
     },
     "execution_count": 136,
     "metadata": {},
     "output_type": "execute_result"
    }
   ],
   "source": [
    "a=(\"Satyavathi\")\n",
    "a.istitle()"
   ]
  },
  {
   "cell_type": "code",
   "execution_count": 137,
   "id": "62bc0b09",
   "metadata": {},
   "outputs": [
    {
     "data": {
      "text/plain": [
       "False"
      ]
     },
     "execution_count": 137,
     "metadata": {},
     "output_type": "execute_result"
    }
   ],
   "source": [
    "a=(\"sweety  \")\n",
    "a.istitle()"
   ]
  },
  {
   "cell_type": "code",
   "execution_count": 146,
   "id": "400bbed1",
   "metadata": {},
   "outputs": [
    {
     "data": {
      "text/plain": [
       "'sweety'"
      ]
     },
     "execution_count": 146,
     "metadata": {},
     "output_type": "execute_result"
    }
   ],
   "source": [
    "a.ljust(5)"
   ]
  },
  {
   "cell_type": "code",
   "execution_count": 148,
   "id": "5f1e26e3",
   "metadata": {},
   "outputs": [
    {
     "data": {
      "text/plain": [
       "'sweety'"
      ]
     },
     "execution_count": 148,
     "metadata": {},
     "output_type": "execute_result"
    }
   ],
   "source": [
    "a.rjust(2)"
   ]
  },
  {
   "cell_type": "code",
   "execution_count": 149,
   "id": "2502bd72",
   "metadata": {},
   "outputs": [
    {
     "data": {
      "text/plain": [
       "['sweety']"
      ]
     },
     "execution_count": 149,
     "metadata": {},
     "output_type": "execute_result"
    }
   ],
   "source": [
    "a.split()"
   ]
  },
  {
   "cell_type": "code",
   "execution_count": 150,
   "id": "1b1c92af",
   "metadata": {},
   "outputs": [
    {
     "data": {
      "text/plain": [
       "'sweety'"
      ]
     },
     "execution_count": 150,
     "metadata": {},
     "output_type": "execute_result"
    }
   ],
   "source": [
    "a.strip()"
   ]
  },
  {
   "cell_type": "code",
   "execution_count": 154,
   "id": "94c884f5",
   "metadata": {},
   "outputs": [
    {
     "data": {
      "text/plain": [
       "'satya vathi'"
      ]
     },
     "execution_count": 154,
     "metadata": {},
     "output_type": "execute_result"
    }
   ],
   "source": [
    "a=(\"  satya vathi \")\n",
    "a.strip()"
   ]
  },
  {
   "cell_type": "code",
   "execution_count": 155,
   "id": "85b4fa55",
   "metadata": {},
   "outputs": [
    {
     "data": {
      "text/plain": [
       "'  satya vathi'"
      ]
     },
     "execution_count": 155,
     "metadata": {},
     "output_type": "execute_result"
    }
   ],
   "source": [
    "a.rstrip()"
   ]
  },
  {
   "cell_type": "code",
   "execution_count": 156,
   "id": "a80fb582",
   "metadata": {},
   "outputs": [
    {
     "data": {
      "text/plain": [
       "'satya vathi '"
      ]
     },
     "execution_count": 156,
     "metadata": {},
     "output_type": "execute_result"
    }
   ],
   "source": [
    "a.lstrip()"
   ]
  },
  {
   "cell_type": "code",
   "execution_count": 158,
   "id": "c6078716",
   "metadata": {},
   "outputs": [
    {
     "data": {
      "text/plain": [
       "'fKfsaJHU'"
      ]
     },
     "execution_count": 158,
     "metadata": {},
     "output_type": "execute_result"
    }
   ],
   "source": [
    "a=('FkFSAjhu')\n",
    "a.swapcase()"
   ]
  },
  {
   "cell_type": "code",
   "execution_count": 166,
   "id": "7d80e556",
   "metadata": {},
   "outputs": [
    {
     "data": {
      "text/plain": [
       "'00FkFSAjhu'"
      ]
     },
     "execution_count": 166,
     "metadata": {},
     "output_type": "execute_result"
    }
   ],
   "source": [
    "a.zfill(10)"
   ]
  },
  {
   "cell_type": "markdown",
   "id": "56680d24",
   "metadata": {},
   "source": [
    "## LIST data type()"
   ]
  },
  {
   "cell_type": "code",
   "execution_count": null,
   "id": "46307c88",
   "metadata": {},
   "outputs": [],
   "source": [
    "#list is multiple data types,coma seperated values\n",
    "# list is mutable datatype(),list is create a object list,obj list is collection of which is order and changeable data type()"
   ]
  },
  {
   "cell_type": "code",
   "execution_count": 168,
   "id": "02a2474a",
   "metadata": {},
   "outputs": [
    {
     "data": {
      "text/plain": [
       "[]"
      ]
     },
     "execution_count": 168,
     "metadata": {},
     "output_type": "execute_result"
    }
   ],
   "source": [
    "a=[]\n",
    "a"
   ]
  },
  {
   "cell_type": "code",
   "execution_count": 169,
   "id": "04268045",
   "metadata": {},
   "outputs": [
    {
     "data": {
      "text/plain": [
       "list"
      ]
     },
     "execution_count": 169,
     "metadata": {},
     "output_type": "execute_result"
    }
   ],
   "source": [
    "type(a)"
   ]
  },
  {
   "cell_type": "code",
   "execution_count": 170,
   "id": "5d5a8866",
   "metadata": {},
   "outputs": [
    {
     "data": {
      "text/plain": [
       "[10, 20, 30, 40, 50]"
      ]
     },
     "execution_count": 170,
     "metadata": {},
     "output_type": "execute_result"
    }
   ],
   "source": [
    "a=[10,20,30,40,50]\n",
    "a"
   ]
  },
  {
   "cell_type": "code",
   "execution_count": 173,
   "id": "e60341cb",
   "metadata": {},
   "outputs": [
    {
     "data": {
      "text/plain": [
       "[10, 20, 30, 600, 50]"
      ]
     },
     "execution_count": 173,
     "metadata": {},
     "output_type": "execute_result"
    }
   ],
   "source": [
    "a[3]=600\n",
    "a"
   ]
  },
  {
   "cell_type": "code",
   "execution_count": 176,
   "id": "d2b88fd2",
   "metadata": {},
   "outputs": [
    {
     "data": {
      "text/plain": [
       "[10, 20, 30, 600, 500]"
      ]
     },
     "execution_count": 176,
     "metadata": {},
     "output_type": "execute_result"
    }
   ],
   "source": [
    "a[4]=500\n",
    "a"
   ]
  },
  {
   "cell_type": "code",
   "execution_count": 179,
   "id": "86fc42c0",
   "metadata": {},
   "outputs": [
    {
     "data": {
      "text/plain": [
       "[100, 20, 30, 600, 500]"
      ]
     },
     "execution_count": 179,
     "metadata": {},
     "output_type": "execute_result"
    }
   ],
   "source": [
    "a[0]=100\n",
    "a"
   ]
  },
  {
   "cell_type": "code",
   "execution_count": 180,
   "id": "66f12291",
   "metadata": {},
   "outputs": [
    {
     "data": {
      "text/plain": [
       "[100, 20, 30, 600, 500]"
      ]
     },
     "execution_count": 180,
     "metadata": {},
     "output_type": "execute_result"
    }
   ],
   "source": [
    "a[:]"
   ]
  },
  {
   "cell_type": "code",
   "execution_count": 181,
   "id": "cf78f32d",
   "metadata": {},
   "outputs": [
    {
     "data": {
      "text/plain": [
       "[100, 20, 30, 600, 500]"
      ]
     },
     "execution_count": 181,
     "metadata": {},
     "output_type": "execute_result"
    }
   ],
   "source": [
    "a[:5]"
   ]
  },
  {
   "cell_type": "code",
   "execution_count": 182,
   "id": "7dba601d",
   "metadata": {},
   "outputs": [
    {
     "data": {
      "text/plain": [
       "[30, 600, 500]"
      ]
     },
     "execution_count": 182,
     "metadata": {},
     "output_type": "execute_result"
    }
   ],
   "source": [
    "a[2:]"
   ]
  },
  {
   "cell_type": "code",
   "execution_count": 184,
   "id": "eca19e00",
   "metadata": {},
   "outputs": [
    {
     "data": {
      "text/plain": [
       "100"
      ]
     },
     "execution_count": 184,
     "metadata": {},
     "output_type": "execute_result"
    }
   ],
   "source": [
    "a[0]"
   ]
  },
  {
   "cell_type": "code",
   "execution_count": 185,
   "id": "c482f0f8",
   "metadata": {},
   "outputs": [
    {
     "data": {
      "text/plain": [
       "30"
      ]
     },
     "execution_count": 185,
     "metadata": {},
     "output_type": "execute_result"
    }
   ],
   "source": [
    "a[2]"
   ]
  },
  {
   "cell_type": "code",
   "execution_count": 186,
   "id": "9a7eac10",
   "metadata": {},
   "outputs": [
    {
     "data": {
      "text/plain": [
       "600"
      ]
     },
     "execution_count": 186,
     "metadata": {},
     "output_type": "execute_result"
    }
   ],
   "source": [
    "a[3]"
   ]
  },
  {
   "cell_type": "code",
   "execution_count": 187,
   "id": "de36404a",
   "metadata": {},
   "outputs": [
    {
     "data": {
      "text/plain": [
       "500"
      ]
     },
     "execution_count": 187,
     "metadata": {},
     "output_type": "execute_result"
    }
   ],
   "source": [
    "a[4]"
   ]
  },
  {
   "cell_type": "code",
   "execution_count": 189,
   "id": "bfdf8849",
   "metadata": {},
   "outputs": [
    {
     "data": {
      "text/plain": [
       "20"
      ]
     },
     "execution_count": 189,
     "metadata": {},
     "output_type": "execute_result"
    }
   ],
   "source": [
    "a[1]"
   ]
  },
  {
   "cell_type": "code",
   "execution_count": 206,
   "id": "bf3547e8",
   "metadata": {},
   "outputs": [
    {
     "data": {
      "text/plain": [
       "[100, 20, 30, 600, 500, '2', '2', '6', 234, 234, 43, 43, '9']"
      ]
     },
     "execution_count": 206,
     "metadata": {},
     "output_type": "execute_result"
    }
   ],
   "source": [
    "a.extend('9')\n",
    "a"
   ]
  },
  {
   "cell_type": "code",
   "execution_count": 207,
   "id": "7bf8a355",
   "metadata": {},
   "outputs": [
    {
     "data": {
      "text/plain": [
       "[100, 20, 30, 600, 500, '2', '2', '6', 234, 234, 43, 43, '9', 234]"
      ]
     },
     "execution_count": 207,
     "metadata": {},
     "output_type": "execute_result"
    }
   ],
   "source": [
    "a.append(234)\n",
    "a"
   ]
  },
  {
   "cell_type": "code",
   "execution_count": 208,
   "id": "8378f38b",
   "metadata": {},
   "outputs": [
    {
     "data": {
      "text/plain": [
       "[100, 20, 30, 600, 500, '2', '2', '6', 234, 234, 43, 43, '9', 234, 43]"
      ]
     },
     "execution_count": 208,
     "metadata": {},
     "output_type": "execute_result"
    }
   ],
   "source": [
    "a.append(43)\n",
    "a"
   ]
  },
  {
   "cell_type": "code",
   "execution_count": 212,
   "id": "c7c8936d",
   "metadata": {},
   "outputs": [
    {
     "data": {
      "text/plain": [
       "[100,\n",
       " 20,\n",
       " 456,\n",
       " 456,\n",
       " 456,\n",
       " 30,\n",
       " 600,\n",
       " 500,\n",
       " '2',\n",
       " '2',\n",
       " '6',\n",
       " 234,\n",
       " 234,\n",
       " 43,\n",
       " 43,\n",
       " '9',\n",
       " 234,\n",
       " 43]"
      ]
     },
     "execution_count": 212,
     "metadata": {},
     "output_type": "execute_result"
    }
   ],
   "source": [
    "a.insert(2,456)\n",
    "a"
   ]
  },
  {
   "cell_type": "code",
   "execution_count": 214,
   "id": "105375a1",
   "metadata": {},
   "outputs": [
    {
     "data": {
      "text/plain": [
       "[12,\n",
       " 12,\n",
       " 100,\n",
       " 20,\n",
       " 456,\n",
       " 456,\n",
       " 456,\n",
       " 30,\n",
       " 600,\n",
       " 500,\n",
       " '2',\n",
       " '2',\n",
       " '6',\n",
       " 234,\n",
       " 234,\n",
       " 43,\n",
       " 43,\n",
       " '9',\n",
       " 234,\n",
       " 43]"
      ]
     },
     "execution_count": 214,
     "metadata": {},
     "output_type": "execute_result"
    }
   ],
   "source": [
    "a.insert(0,12)\n",
    "a"
   ]
  },
  {
   "cell_type": "code",
   "execution_count": 215,
   "id": "5f423aa5",
   "metadata": {},
   "outputs": [
    {
     "data": {
      "text/plain": [
       "43"
      ]
     },
     "execution_count": 215,
     "metadata": {},
     "output_type": "execute_result"
    }
   ],
   "source": [
    "a.pop()"
   ]
  },
  {
   "cell_type": "code",
   "execution_count": 217,
   "id": "5fd41dff",
   "metadata": {},
   "outputs": [
    {
     "data": {
      "text/plain": [
       "456"
      ]
     },
     "execution_count": 217,
     "metadata": {},
     "output_type": "execute_result"
    }
   ],
   "source": [
    "a.pop(6)"
   ]
  },
  {
   "cell_type": "code",
   "execution_count": 218,
   "id": "6f1833e3",
   "metadata": {},
   "outputs": [
    {
     "data": {
      "text/plain": [
       "500"
      ]
     },
     "execution_count": 218,
     "metadata": {},
     "output_type": "execute_result"
    }
   ],
   "source": [
    "a.pop(8)"
   ]
  },
  {
   "cell_type": "code",
   "execution_count": 220,
   "id": "e85150af",
   "metadata": {},
   "outputs": [
    {
     "data": {
      "text/plain": [
       "[12, 12, 100, 20, 456, 456, 30, 600, '2', '2', '6', 43, 43, '9', 234]"
      ]
     },
     "execution_count": 220,
     "metadata": {},
     "output_type": "execute_result"
    }
   ],
   "source": [
    "a.remove(234)\n",
    "a"
   ]
  },
  {
   "cell_type": "code",
   "execution_count": 222,
   "id": "537eb62b",
   "metadata": {},
   "outputs": [
    {
     "data": {
      "text/plain": [
       "[12, 12, 100, 20, 30, 600, '2', '2', '6', 43, 43, '9', 234]"
      ]
     },
     "execution_count": 222,
     "metadata": {},
     "output_type": "execute_result"
    }
   ],
   "source": [
    "a.remove(456)\n",
    "a"
   ]
  },
  {
   "cell_type": "code",
   "execution_count": 226,
   "id": "305cbe2f",
   "metadata": {},
   "outputs": [
    {
     "data": {
      "text/plain": [
       "[100, 20, 30, '2', '2', '6', 43, 43, '9', 234]"
      ]
     },
     "execution_count": 226,
     "metadata": {},
     "output_type": "execute_result"
    }
   ],
   "source": [
    "a.remove(12)\n",
    "a"
   ]
  },
  {
   "cell_type": "code",
   "execution_count": 230,
   "id": "def07d0d",
   "metadata": {},
   "outputs": [
    {
     "data": {
      "text/plain": [
       "[100, 20, 30, '6', 43, 43, '9', 234]"
      ]
     },
     "execution_count": 230,
     "metadata": {},
     "output_type": "execute_result"
    }
   ],
   "source": [
    "a.remove('2')\n",
    "a"
   ]
  },
  {
   "cell_type": "code",
   "execution_count": 233,
   "id": "847d1619",
   "metadata": {},
   "outputs": [
    {
     "data": {
      "text/plain": [
       "[]"
      ]
     },
     "execution_count": 233,
     "metadata": {},
     "output_type": "execute_result"
    }
   ],
   "source": [
    "a.clear()\n",
    "a"
   ]
  },
  {
   "cell_type": "code",
   "execution_count": 241,
   "id": "f92ab168",
   "metadata": {},
   "outputs": [
    {
     "data": {
      "text/plain": [
       "[10, 20, 30]"
      ]
     },
     "execution_count": 241,
     "metadata": {},
     "output_type": "execute_result"
    }
   ],
   "source": [
    "a=[10,20,30]\n",
    "a"
   ]
  },
  {
   "cell_type": "code",
   "execution_count": 251,
   "id": "4ea65f19",
   "metadata": {},
   "outputs": [
    {
     "data": {
      "text/plain": [
       "[10, 20, 30, 40, 50]"
      ]
     },
     "execution_count": 251,
     "metadata": {},
     "output_type": "execute_result"
    }
   ],
   "source": [
    "a=[10,20,30,40,50]\n",
    "a"
   ]
  },
  {
   "cell_type": "code",
   "execution_count": 255,
   "id": "779b4697",
   "metadata": {},
   "outputs": [
    {
     "data": {
      "text/plain": [
       "1"
      ]
     },
     "execution_count": 255,
     "metadata": {},
     "output_type": "execute_result"
    }
   ],
   "source": [
    "a.count(20)"
   ]
  },
  {
   "cell_type": "code",
   "execution_count": 256,
   "id": "a07ba07b",
   "metadata": {},
   "outputs": [
    {
     "data": {
      "text/plain": [
       "2"
      ]
     },
     "execution_count": 256,
     "metadata": {},
     "output_type": "execute_result"
    }
   ],
   "source": [
    "a.index(30)"
   ]
  },
  {
   "cell_type": "code",
   "execution_count": 257,
   "id": "d76cb259",
   "metadata": {},
   "outputs": [
    {
     "data": {
      "text/plain": [
       "4"
      ]
     },
     "execution_count": 257,
     "metadata": {},
     "output_type": "execute_result"
    }
   ],
   "source": [
    "a.index(50)"
   ]
  },
  {
   "cell_type": "code",
   "execution_count": 258,
   "id": "9b331365",
   "metadata": {},
   "outputs": [
    {
     "data": {
      "text/plain": [
       "1"
      ]
     },
     "execution_count": 258,
     "metadata": {},
     "output_type": "execute_result"
    }
   ],
   "source": [
    "a.count(50)"
   ]
  },
  {
   "cell_type": "code",
   "execution_count": 259,
   "id": "5ce37daf",
   "metadata": {},
   "outputs": [
    {
     "data": {
      "text/plain": [
       "[30, 70, 50, 20, 90, 100, 10, 30]"
      ]
     },
     "execution_count": 259,
     "metadata": {},
     "output_type": "execute_result"
    }
   ],
   "source": [
    "a=[30,70,50,20,90,100,10,30]\n",
    "a"
   ]
  },
  {
   "cell_type": "code",
   "execution_count": 261,
   "id": "de23cb55",
   "metadata": {},
   "outputs": [
    {
     "data": {
      "text/plain": [
       "[10, 20, 30, 30, 50, 70, 90, 100]"
      ]
     },
     "execution_count": 261,
     "metadata": {},
     "output_type": "execute_result"
    }
   ],
   "source": [
    "a.sort()\n",
    "a"
   ]
  },
  {
   "cell_type": "code",
   "execution_count": 262,
   "id": "ab0789b4",
   "metadata": {},
   "outputs": [
    {
     "data": {
      "text/plain": [
       "1"
      ]
     },
     "execution_count": 262,
     "metadata": {},
     "output_type": "execute_result"
    }
   ],
   "source": [
    "a.index(20)"
   ]
  },
  {
   "cell_type": "code",
   "execution_count": 263,
   "id": "8a1bae9e",
   "metadata": {},
   "outputs": [
    {
     "data": {
      "text/plain": [
       "7"
      ]
     },
     "execution_count": 263,
     "metadata": {},
     "output_type": "execute_result"
    }
   ],
   "source": [
    "a.index(100)"
   ]
  },
  {
   "cell_type": "code",
   "execution_count": 264,
   "id": "c32be2c0",
   "metadata": {},
   "outputs": [
    {
     "data": {
      "text/plain": [
       "6"
      ]
     },
     "execution_count": 264,
     "metadata": {},
     "output_type": "execute_result"
    }
   ],
   "source": [
    "a.index(90)"
   ]
  },
  {
   "cell_type": "code",
   "execution_count": 265,
   "id": "692c0d30",
   "metadata": {},
   "outputs": [],
   "source": [
    "a.sort()"
   ]
  },
  {
   "cell_type": "code",
   "execution_count": 266,
   "id": "2c5af392",
   "metadata": {},
   "outputs": [
    {
     "data": {
      "text/plain": [
       "[10, 20, 30, 30, 50, 70, 90, 100]"
      ]
     },
     "execution_count": 266,
     "metadata": {},
     "output_type": "execute_result"
    }
   ],
   "source": [
    "a"
   ]
  },
  {
   "cell_type": "code",
   "execution_count": 242,
   "id": "aa3c0a04",
   "metadata": {},
   "outputs": [],
   "source": [
    "del a"
   ]
  },
  {
   "cell_type": "code",
   "execution_count": 247,
   "id": "94c426ad",
   "metadata": {},
   "outputs": [],
   "source": []
  },
  {
   "cell_type": "code",
   "execution_count": 268,
   "id": "56a2c8f1",
   "metadata": {
    "scrolled": true
   },
   "outputs": [
    {
     "data": {
      "text/plain": [
       "[0, 4, 16, 36, 64]"
      ]
     },
     "execution_count": 268,
     "metadata": {},
     "output_type": "execute_result"
    }
   ],
   "source": [
    "a=[ele*ele for ele in range(10) if ele%2==0]\n",
    "a"
   ]
  },
  {
   "cell_type": "markdown",
   "id": "afacc79a",
   "metadata": {},
   "source": [
    "## TUPLE data type()"
   ]
  },
  {
   "cell_type": "code",
   "execution_count": null,
   "id": "0aad53c7",
   "metadata": {},
   "outputs": [],
   "source": [
    "#tuple is used for store the multiple items in single variable\n",
    "#tuple is immutable data type(),tuple is collection of which is order and unchangeable"
   ]
  },
  {
   "cell_type": "code",
   "execution_count": 1,
   "id": "33cd2fe2",
   "metadata": {},
   "outputs": [
    {
     "data": {
      "text/plain": [
       "tuple"
      ]
     },
     "execution_count": 1,
     "metadata": {},
     "output_type": "execute_result"
    }
   ],
   "source": [
    "a=()\n",
    "type(a)"
   ]
  },
  {
   "cell_type": "code",
   "execution_count": 2,
   "id": "8a9dbd8d",
   "metadata": {},
   "outputs": [
    {
     "data": {
      "text/plain": [
       "(10, 20, 30, 40, 50)"
      ]
     },
     "execution_count": 2,
     "metadata": {},
     "output_type": "execute_result"
    }
   ],
   "source": [
    "a=(10,20,30,40,50)\n",
    "a"
   ]
  },
  {
   "cell_type": "code",
   "execution_count": 3,
   "id": "3f21cb09",
   "metadata": {},
   "outputs": [
    {
     "data": {
      "text/plain": [
       "10"
      ]
     },
     "execution_count": 3,
     "metadata": {},
     "output_type": "execute_result"
    }
   ],
   "source": [
    "a[0]"
   ]
  },
  {
   "cell_type": "code",
   "execution_count": 4,
   "id": "e234306b",
   "metadata": {},
   "outputs": [
    {
     "data": {
      "text/plain": [
       "40"
      ]
     },
     "execution_count": 4,
     "metadata": {},
     "output_type": "execute_result"
    }
   ],
   "source": [
    "a[3]"
   ]
  },
  {
   "cell_type": "code",
   "execution_count": 5,
   "id": "e0a4ced1",
   "metadata": {},
   "outputs": [
    {
     "data": {
      "text/plain": [
       "30"
      ]
     },
     "execution_count": 5,
     "metadata": {},
     "output_type": "execute_result"
    }
   ],
   "source": [
    "a[2]"
   ]
  },
  {
   "cell_type": "code",
   "execution_count": 7,
   "id": "3054f25d",
   "metadata": {},
   "outputs": [
    {
     "data": {
      "text/plain": [
       "50"
      ]
     },
     "execution_count": 7,
     "metadata": {},
     "output_type": "execute_result"
    }
   ],
   "source": [
    "a[4]"
   ]
  },
  {
   "cell_type": "code",
   "execution_count": 8,
   "id": "d357dd5c",
   "metadata": {},
   "outputs": [
    {
     "data": {
      "text/plain": [
       "(10, 20, 30, 40, 50)"
      ]
     },
     "execution_count": 8,
     "metadata": {},
     "output_type": "execute_result"
    }
   ],
   "source": [
    "a[:]"
   ]
  },
  {
   "cell_type": "code",
   "execution_count": 9,
   "id": "e4432fce",
   "metadata": {},
   "outputs": [
    {
     "data": {
      "text/plain": [
       "(10, 20, 30)"
      ]
     },
     "execution_count": 9,
     "metadata": {},
     "output_type": "execute_result"
    }
   ],
   "source": [
    "a[:3]"
   ]
  },
  {
   "cell_type": "code",
   "execution_count": 10,
   "id": "eff83845",
   "metadata": {},
   "outputs": [
    {
     "data": {
      "text/plain": [
       "(30, 40, 50)"
      ]
     },
     "execution_count": 10,
     "metadata": {},
     "output_type": "execute_result"
    }
   ],
   "source": [
    "a[2:]"
   ]
  },
  {
   "cell_type": "code",
   "execution_count": 12,
   "id": "40e34491",
   "metadata": {},
   "outputs": [
    {
     "data": {
      "text/plain": [
       "(10, 20, 30, 40)"
      ]
     },
     "execution_count": 12,
     "metadata": {},
     "output_type": "execute_result"
    }
   ],
   "source": [
    "a[:-1]"
   ]
  },
  {
   "cell_type": "code",
   "execution_count": 13,
   "id": "509df7d9",
   "metadata": {},
   "outputs": [
    {
     "data": {
      "text/plain": [
       "(10, 20)"
      ]
     },
     "execution_count": 13,
     "metadata": {},
     "output_type": "execute_result"
    }
   ],
   "source": [
    "a[:-3]"
   ]
  },
  {
   "cell_type": "code",
   "execution_count": 14,
   "id": "9a9c8602",
   "metadata": {},
   "outputs": [
    {
     "data": {
      "text/plain": [
       "(10, 20, 30, 40)"
      ]
     },
     "execution_count": 14,
     "metadata": {},
     "output_type": "execute_result"
    }
   ],
   "source": [
    "a[:-1]"
   ]
  },
  {
   "cell_type": "code",
   "execution_count": 16,
   "id": "901ebfc9",
   "metadata": {},
   "outputs": [
    {
     "data": {
      "text/plain": [
       "tuple"
      ]
     },
     "execution_count": 16,
     "metadata": {},
     "output_type": "execute_result"
    }
   ],
   "source": [
    "type(a)"
   ]
  },
  {
   "cell_type": "code",
   "execution_count": 17,
   "id": "9d3f04c1",
   "metadata": {},
   "outputs": [],
   "source": [
    "a=list(a)"
   ]
  },
  {
   "cell_type": "code",
   "execution_count": 18,
   "id": "30c3abd4",
   "metadata": {},
   "outputs": [
    {
     "data": {
      "text/plain": [
       "[10, 20, 30, 40, 50]"
      ]
     },
     "execution_count": 18,
     "metadata": {},
     "output_type": "execute_result"
    }
   ],
   "source": [
    "a"
   ]
  },
  {
   "cell_type": "code",
   "execution_count": 19,
   "id": "b75df90c",
   "metadata": {},
   "outputs": [
    {
     "data": {
      "text/plain": [
       "list"
      ]
     },
     "execution_count": 19,
     "metadata": {},
     "output_type": "execute_result"
    }
   ],
   "source": [
    "type(a)"
   ]
  },
  {
   "cell_type": "code",
   "execution_count": 21,
   "id": "7c3c65ea",
   "metadata": {},
   "outputs": [
    {
     "data": {
      "text/plain": [
       "[10, 20, 200, 40, 50]"
      ]
     },
     "execution_count": 21,
     "metadata": {},
     "output_type": "execute_result"
    }
   ],
   "source": [
    "a[2]=200\n",
    "a"
   ]
  },
  {
   "cell_type": "code",
   "execution_count": 23,
   "id": "d639f3d0",
   "metadata": {},
   "outputs": [
    {
     "data": {
      "text/plain": [
       "[10, 20, 200, 40, 400]"
      ]
     },
     "execution_count": 23,
     "metadata": {},
     "output_type": "execute_result"
    }
   ],
   "source": [
    "a[4]=400\n",
    "a"
   ]
  },
  {
   "cell_type": "code",
   "execution_count": 24,
   "id": "3c0ffa8f",
   "metadata": {},
   "outputs": [
    {
     "data": {
      "text/plain": [
       "[100, 20, 200, 40, 400]"
      ]
     },
     "execution_count": 24,
     "metadata": {},
     "output_type": "execute_result"
    }
   ],
   "source": [
    "a[0]=100\n",
    "a"
   ]
  },
  {
   "cell_type": "code",
   "execution_count": 29,
   "id": "99e9afe0",
   "metadata": {},
   "outputs": [
    {
     "data": {
      "text/plain": [
       "[200, 40, 400]"
      ]
     },
     "execution_count": 29,
     "metadata": {},
     "output_type": "execute_result"
    }
   ],
   "source": [
    "a.remove(20)\n",
    "a"
   ]
  },
  {
   "cell_type": "code",
   "execution_count": 31,
   "id": "a4ee22f2",
   "metadata": {},
   "outputs": [
    {
     "data": {
      "text/plain": [
       "[40, 400]"
      ]
     },
     "execution_count": 31,
     "metadata": {},
     "output_type": "execute_result"
    }
   ],
   "source": [
    "a.pop(0)\n",
    "a"
   ]
  },
  {
   "cell_type": "code",
   "execution_count": 32,
   "id": "341d8dda",
   "metadata": {},
   "outputs": [
    {
     "data": {
      "text/plain": [
       "[40, 400]"
      ]
     },
     "execution_count": 32,
     "metadata": {},
     "output_type": "execute_result"
    }
   ],
   "source": [
    "a"
   ]
  },
  {
   "cell_type": "code",
   "execution_count": 33,
   "id": "86d210e5",
   "metadata": {},
   "outputs": [],
   "source": [
    "a=tuple(a)"
   ]
  },
  {
   "cell_type": "code",
   "execution_count": 34,
   "id": "ec8ea9c7",
   "metadata": {},
   "outputs": [
    {
     "data": {
      "text/plain": [
       "(40, 400)"
      ]
     },
     "execution_count": 34,
     "metadata": {},
     "output_type": "execute_result"
    }
   ],
   "source": [
    "a"
   ]
  },
  {
   "cell_type": "code",
   "execution_count": 38,
   "id": "df033434",
   "metadata": {},
   "outputs": [
    {
     "ename": "NameError",
     "evalue": "name 'a' is not defined",
     "output_type": "error",
     "traceback": [
      "\u001b[1;31m---------------------------------------------------------------------------\u001b[0m",
      "\u001b[1;31mNameError\u001b[0m                                 Traceback (most recent call last)",
      "\u001b[1;32m~\\AppData\\Local\\Temp\\ipykernel_5168\\1616560436.py\u001b[0m in \u001b[0;36m<module>\u001b[1;34m\u001b[0m\n\u001b[1;32m----> 1\u001b[1;33m \u001b[1;32mdel\u001b[0m \u001b[0ma\u001b[0m\u001b[1;33m\u001b[0m\u001b[1;33m\u001b[0m\u001b[0m\n\u001b[0m",
      "\u001b[1;31mNameError\u001b[0m: name 'a' is not defined"
     ]
    }
   ],
   "source": [
    "del a"
   ]
  },
  {
   "cell_type": "code",
   "execution_count": 39,
   "id": "496c5a5a",
   "metadata": {},
   "outputs": [
    {
     "data": {
      "text/plain": [
       "(10, 50, 70, 30, 20, 60, 30, 40)"
      ]
     },
     "execution_count": 39,
     "metadata": {},
     "output_type": "execute_result"
    }
   ],
   "source": [
    "a=(10,50,70,30,20,60,30,40)\n",
    "a"
   ]
  },
  {
   "cell_type": "code",
   "execution_count": 40,
   "id": "f907c534",
   "metadata": {},
   "outputs": [
    {
     "data": {
      "text/plain": [
       "8"
      ]
     },
     "execution_count": 40,
     "metadata": {},
     "output_type": "execute_result"
    }
   ],
   "source": [
    "len(a)"
   ]
  },
  {
   "cell_type": "code",
   "execution_count": 41,
   "id": "18766b64",
   "metadata": {},
   "outputs": [
    {
     "data": {
      "text/plain": [
       "10"
      ]
     },
     "execution_count": 41,
     "metadata": {},
     "output_type": "execute_result"
    }
   ],
   "source": [
    "min(a)"
   ]
  },
  {
   "cell_type": "code",
   "execution_count": 42,
   "id": "ee3261f5",
   "metadata": {},
   "outputs": [
    {
     "data": {
      "text/plain": [
       "70"
      ]
     },
     "execution_count": 42,
     "metadata": {},
     "output_type": "execute_result"
    }
   ],
   "source": [
    "max(a)"
   ]
  },
  {
   "cell_type": "code",
   "execution_count": 43,
   "id": "bf930ac5",
   "metadata": {},
   "outputs": [
    {
     "data": {
      "text/plain": [
       "310"
      ]
     },
     "execution_count": 43,
     "metadata": {},
     "output_type": "execute_result"
    }
   ],
   "source": [
    "sum(a)"
   ]
  },
  {
   "cell_type": "code",
   "execution_count": 44,
   "id": "37c3fcc0",
   "metadata": {},
   "outputs": [
    {
     "data": {
      "text/plain": [
       "True"
      ]
     },
     "execution_count": 44,
     "metadata": {},
     "output_type": "execute_result"
    }
   ],
   "source": [
    "10 in a"
   ]
  },
  {
   "cell_type": "code",
   "execution_count": 45,
   "id": "0147b3ad",
   "metadata": {},
   "outputs": [
    {
     "data": {
      "text/plain": [
       "False"
      ]
     },
     "execution_count": 45,
     "metadata": {},
     "output_type": "execute_result"
    }
   ],
   "source": [
    "20 not in a"
   ]
  },
  {
   "cell_type": "code",
   "execution_count": 46,
   "id": "35a676a4",
   "metadata": {},
   "outputs": [
    {
     "data": {
      "text/plain": [
       "True"
      ]
     },
     "execution_count": 46,
     "metadata": {},
     "output_type": "execute_result"
    }
   ],
   "source": [
    "30 in a"
   ]
  },
  {
   "cell_type": "code",
   "execution_count": 47,
   "id": "25ad076b",
   "metadata": {},
   "outputs": [
    {
     "data": {
      "text/plain": [
       "True"
      ]
     },
     "execution_count": 47,
     "metadata": {},
     "output_type": "execute_result"
    }
   ],
   "source": [
    "300 not in a"
   ]
  },
  {
   "cell_type": "code",
   "execution_count": 48,
   "id": "6fdef58a",
   "metadata": {},
   "outputs": [
    {
     "data": {
      "text/plain": [
       "False"
      ]
     },
     "execution_count": 48,
     "metadata": {},
     "output_type": "execute_result"
    }
   ],
   "source": [
    "50 not in a"
   ]
  },
  {
   "cell_type": "code",
   "execution_count": 49,
   "id": "f64e0168",
   "metadata": {},
   "outputs": [
    {
     "data": {
      "text/plain": [
       "False"
      ]
     },
     "execution_count": 49,
     "metadata": {},
     "output_type": "execute_result"
    }
   ],
   "source": [
    "100 in a"
   ]
  },
  {
   "cell_type": "code",
   "execution_count": 54,
   "id": "9bf0da85",
   "metadata": {},
   "outputs": [
    {
     "name": "stdout",
     "output_type": "stream",
     "text": [
      "0\n",
      "1\n",
      "2\n",
      "3\n",
      "4\n",
      "5\n",
      "6\n",
      "7\n"
     ]
    }
   ],
   "source": [
    "for i in range(len(a)):\n",
    "    print(i)"
   ]
  },
  {
   "cell_type": "code",
   "execution_count": 55,
   "id": "a77bc2a6",
   "metadata": {},
   "outputs": [
    {
     "data": {
      "text/plain": [
       "(10, 20, 30, 20, 30, 40)"
      ]
     },
     "execution_count": 55,
     "metadata": {},
     "output_type": "execute_result"
    }
   ],
   "source": [
    "a=(10,20,30)\n",
    "b=(20,30,40)\n",
    "a+b"
   ]
  },
  {
   "cell_type": "code",
   "execution_count": 60,
   "id": "d80ddd33",
   "metadata": {},
   "outputs": [
    {
     "data": {
      "text/plain": [
       "(10, 20, 30)"
      ]
     },
     "execution_count": 60,
     "metadata": {},
     "output_type": "execute_result"
    }
   ],
   "source": [
    "a"
   ]
  },
  {
   "cell_type": "code",
   "execution_count": 61,
   "id": "4f905812",
   "metadata": {},
   "outputs": [
    {
     "data": {
      "text/plain": [
       "2"
      ]
     },
     "execution_count": 61,
     "metadata": {},
     "output_type": "execute_result"
    }
   ],
   "source": [
    "a.index(30)"
   ]
  },
  {
   "cell_type": "code",
   "execution_count": 63,
   "id": "54f53c19",
   "metadata": {},
   "outputs": [
    {
     "data": {
      "text/plain": [
       "0"
      ]
     },
     "execution_count": 63,
     "metadata": {},
     "output_type": "execute_result"
    }
   ],
   "source": [
    "a.index(10)"
   ]
  },
  {
   "cell_type": "code",
   "execution_count": 65,
   "id": "84023bb6",
   "metadata": {},
   "outputs": [
    {
     "data": {
      "text/plain": [
       "2"
      ]
     },
     "execution_count": 65,
     "metadata": {},
     "output_type": "execute_result"
    }
   ],
   "source": [
    "b.index(40)"
   ]
  },
  {
   "cell_type": "code",
   "execution_count": 67,
   "id": "3aea0fdf",
   "metadata": {},
   "outputs": [
    {
     "data": {
      "text/plain": [
       "1"
      ]
     },
     "execution_count": 67,
     "metadata": {},
     "output_type": "execute_result"
    }
   ],
   "source": [
    "a.count(20)"
   ]
  },
  {
   "cell_type": "code",
   "execution_count": 68,
   "id": "1e2607a0",
   "metadata": {},
   "outputs": [
    {
     "data": {
      "text/plain": [
       "(10, 20, 30, 20, 40, 10, 20)"
      ]
     },
     "execution_count": 68,
     "metadata": {},
     "output_type": "execute_result"
    }
   ],
   "source": [
    "a=(10,20,30,20,40,10,20)\n",
    "a"
   ]
  },
  {
   "cell_type": "code",
   "execution_count": 69,
   "id": "2ea92307",
   "metadata": {},
   "outputs": [
    {
     "data": {
      "text/plain": [
       "3"
      ]
     },
     "execution_count": 69,
     "metadata": {},
     "output_type": "execute_result"
    }
   ],
   "source": [
    "a.count(20)"
   ]
  },
  {
   "cell_type": "code",
   "execution_count": 70,
   "id": "e7e6af9b",
   "metadata": {},
   "outputs": [
    {
     "data": {
      "text/plain": [
       "2"
      ]
     },
     "execution_count": 70,
     "metadata": {},
     "output_type": "execute_result"
    }
   ],
   "source": [
    "a.count(10)"
   ]
  },
  {
   "cell_type": "markdown",
   "id": "5713e709",
   "metadata": {},
   "source": [
    "## DICTIONARY DATA TYPE():"
   ]
  },
  {
   "cell_type": "code",
   "execution_count": 72,
   "id": "42fae8f5",
   "metadata": {},
   "outputs": [],
   "source": [
    "#dictionary is multiple keys and values are accepted,dict is created by dict\n",
    "#dict is a mutable data type(),dict is collection of which is unorder and unchangeable and undexing"
   ]
  },
  {
   "cell_type": "code",
   "execution_count": 74,
   "id": "ada3b445",
   "metadata": {},
   "outputs": [
    {
     "data": {
      "text/plain": [
       "dict"
      ]
     },
     "execution_count": 74,
     "metadata": {},
     "output_type": "execute_result"
    }
   ],
   "source": [
    "a={}\n",
    "type(a)"
   ]
  },
  {
   "cell_type": "code",
   "execution_count": 78,
   "id": "ee14c3cd",
   "metadata": {},
   "outputs": [
    {
     "data": {
      "text/plain": [
       "{'name': 'satya', 'rollno': 524, 'gender': 'female', 'age': 20}"
      ]
     },
     "execution_count": 78,
     "metadata": {},
     "output_type": "execute_result"
    }
   ],
   "source": [
    "a={'name':'satya',\"rollno\":524,'gender':'female','age':20}\n",
    "a"
   ]
  },
  {
   "cell_type": "code",
   "execution_count": 80,
   "id": "d2d8af3c",
   "metadata": {},
   "outputs": [
    {
     "data": {
      "text/plain": [
       "{'name': 'sweety', 'rollno': 524, 'gender': 'female', 'age': 20}"
      ]
     },
     "execution_count": 80,
     "metadata": {},
     "output_type": "execute_result"
    }
   ],
   "source": [
    "a['name']=\"sweety\"\n",
    "a"
   ]
  },
  {
   "cell_type": "code",
   "execution_count": 81,
   "id": "9fc1973e",
   "metadata": {},
   "outputs": [
    {
     "data": {
      "text/plain": [
       "{'name': 'sweety', 'rollno': 524, 'gender': 'female', 'age': 22}"
      ]
     },
     "execution_count": 81,
     "metadata": {},
     "output_type": "execute_result"
    }
   ],
   "source": [
    "a['age']=22\n",
    "a"
   ]
  },
  {
   "cell_type": "code",
   "execution_count": 83,
   "id": "5fae4539",
   "metadata": {},
   "outputs": [
    {
     "data": {
      "text/plain": [
       "'sweety'"
      ]
     },
     "execution_count": 83,
     "metadata": {},
     "output_type": "execute_result"
    }
   ],
   "source": [
    "a['name']"
   ]
  },
  {
   "cell_type": "code",
   "execution_count": 84,
   "id": "2a2117c7",
   "metadata": {},
   "outputs": [
    {
     "data": {
      "text/plain": [
       "22"
      ]
     },
     "execution_count": 84,
     "metadata": {},
     "output_type": "execute_result"
    }
   ],
   "source": [
    "a['age']"
   ]
  },
  {
   "cell_type": "code",
   "execution_count": 85,
   "id": "28689e35",
   "metadata": {},
   "outputs": [
    {
     "data": {
      "text/plain": [
       "'female'"
      ]
     },
     "execution_count": 85,
     "metadata": {},
     "output_type": "execute_result"
    }
   ],
   "source": [
    "a['gender']"
   ]
  },
  {
   "cell_type": "code",
   "execution_count": 86,
   "id": "512915c5",
   "metadata": {},
   "outputs": [
    {
     "data": {
      "text/plain": [
       "524"
      ]
     },
     "execution_count": 86,
     "metadata": {},
     "output_type": "execute_result"
    }
   ],
   "source": [
    "a['rollno']"
   ]
  },
  {
   "cell_type": "code",
   "execution_count": 88,
   "id": "69a5a81f",
   "metadata": {},
   "outputs": [
    {
     "data": {
      "text/plain": [
       "{'name': 'sweety', 'rollno': 524, 'gender': 'female', 'age': 22}"
      ]
     },
     "execution_count": 88,
     "metadata": {},
     "output_type": "execute_result"
    }
   ],
   "source": [
    "a"
   ]
  },
  {
   "cell_type": "code",
   "execution_count": 90,
   "id": "1a0fdfbf",
   "metadata": {},
   "outputs": [
    {
     "data": {
      "text/plain": [
       "dict_keys(['name', 'rollno', 'gender', 'age'])"
      ]
     },
     "execution_count": 90,
     "metadata": {},
     "output_type": "execute_result"
    }
   ],
   "source": [
    "a.keys()"
   ]
  },
  {
   "cell_type": "code",
   "execution_count": 91,
   "id": "9914ffad",
   "metadata": {},
   "outputs": [
    {
     "data": {
      "text/plain": [
       "dict_items([('name', 'sweety'), ('rollno', 524), ('gender', 'female'), ('age', 22)])"
      ]
     },
     "execution_count": 91,
     "metadata": {},
     "output_type": "execute_result"
    }
   ],
   "source": [
    "a.items()"
   ]
  },
  {
   "cell_type": "code",
   "execution_count": 92,
   "id": "c061dabd",
   "metadata": {},
   "outputs": [
    {
     "data": {
      "text/plain": [
       "dict_values(['sweety', 524, 'female', 22])"
      ]
     },
     "execution_count": 92,
     "metadata": {},
     "output_type": "execute_result"
    }
   ],
   "source": [
    "a.values()"
   ]
  },
  {
   "cell_type": "code",
   "execution_count": 97,
   "id": "e7b16c2b",
   "metadata": {},
   "outputs": [],
   "source": [
    "a.update()"
   ]
  },
  {
   "cell_type": "code",
   "execution_count": 98,
   "id": "7e301655",
   "metadata": {},
   "outputs": [
    {
     "data": {
      "text/plain": [
       "{'name': 'sweety', 'rollno': 524, 'gender': 'female', 'age': 22}"
      ]
     },
     "execution_count": 98,
     "metadata": {},
     "output_type": "execute_result"
    }
   ],
   "source": [
    "a"
   ]
  },
  {
   "cell_type": "code",
   "execution_count": 101,
   "id": "2ae06dc4",
   "metadata": {},
   "outputs": [
    {
     "data": {
      "text/plain": [
       "{'name': 'sweety', 'rollno': 524, 'gender': 'female', 'age': 22}"
      ]
     },
     "execution_count": 101,
     "metadata": {},
     "output_type": "execute_result"
    }
   ],
   "source": [
    "a.update()\n",
    "a"
   ]
  },
  {
   "cell_type": "code",
   "execution_count": 104,
   "id": "afe3b939",
   "metadata": {},
   "outputs": [
    {
     "data": {
      "text/plain": [
       "{'name': 'sweety', 'rollno': 524, 'gender': 'female', 'age': 22}"
      ]
     },
     "execution_count": 104,
     "metadata": {},
     "output_type": "execute_result"
    }
   ],
   "source": [
    "a.copy()"
   ]
  },
  {
   "cell_type": "code",
   "execution_count": 106,
   "id": "70fc2d2a",
   "metadata": {},
   "outputs": [
    {
     "data": {
      "text/plain": [
       "dict"
      ]
     },
     "execution_count": 106,
     "metadata": {},
     "output_type": "execute_result"
    }
   ],
   "source": [
    "type(a)"
   ]
  },
  {
   "cell_type": "code",
   "execution_count": 107,
   "id": "60c922cb",
   "metadata": {},
   "outputs": [
    {
     "data": {
      "text/plain": [
       "{'name': 'sweety', 'rollno': 524, 'gender': 'female', 'age': 22}"
      ]
     },
     "execution_count": 107,
     "metadata": {},
     "output_type": "execute_result"
    }
   ],
   "source": [
    "a.copy()"
   ]
  },
  {
   "cell_type": "code",
   "execution_count": 109,
   "id": "797b635c",
   "metadata": {},
   "outputs": [],
   "source": [
    "a.clear()"
   ]
  },
  {
   "cell_type": "code",
   "execution_count": 110,
   "id": "0076680d",
   "metadata": {},
   "outputs": [
    {
     "data": {
      "text/plain": [
       "{}"
      ]
     },
     "execution_count": 110,
     "metadata": {},
     "output_type": "execute_result"
    }
   ],
   "source": [
    "a"
   ]
  },
  {
   "cell_type": "markdown",
   "id": "e4054ca4",
   "metadata": {},
   "source": [
    "## CONTROL STRUCTURE():\n",
    "###  sequential execution--line by line execution\n",
    "###  conditional statements--if,elif,else\n",
    "###  iterative statements--while,for\n",
    "###  jumping statements--break,continue,pass\n"
   ]
  },
  {
   "cell_type": "code",
   "execution_count": 111,
   "id": "1e003275",
   "metadata": {},
   "outputs": [],
   "source": [
    "##Control structures are an essential part of programming that allow you to specify the flow of execution in your code.\n",
    "##Control Structures constitute the basic blocks for decision making processes in computing."
   ]
  },
  {
   "cell_type": "markdown",
   "id": "9775577e",
   "metadata": {},
   "source": [
    "## sequential execution--line by line execution():"
   ]
  },
  {
   "cell_type": "code",
   "execution_count": null,
   "id": "3723397e",
   "metadata": {},
   "outputs": [],
   "source": [
    "##Sequence control structure refers to the line-by-line execution by which statements are executed sequentially,\n",
    "##in the same order in which they appear in the program. "
   ]
  },
  {
   "cell_type": "markdown",
   "id": "6ae80d1c",
   "metadata": {},
   "source": [
    "## conditional statements--if,elif,else():"
   ]
  },
  {
   "cell_type": "code",
   "execution_count": 112,
   "id": "118bd32a",
   "metadata": {},
   "outputs": [],
   "source": [
    "## Conditional statements (if, else, and elif) are fundamental programming constructs that allow you to control\n",
    "#the flow of your program based on conditions that you specify."
   ]
  },
  {
   "cell_type": "code",
   "execution_count": 115,
   "id": "83b640c5",
   "metadata": {},
   "outputs": [
    {
     "name": "stdout",
     "output_type": "stream",
     "text": [
      "TRUE,STATEMENT WILL BE EXECUTED\n"
     ]
    }
   ],
   "source": [
    "n=10\n",
    "if n>50:\n",
    "    print(\"FALSE,statement skipped\")\n",
    "elif n>30:\n",
    "        print(\"FALSE,this is alse skipped\")\n",
    "elif n>5:\n",
    "        print(\"TRUE,STATEMENT WILL BE EXECUTED\")\n",
    "else:\n",
    "    print(\"this is else block\")\n",
    "        "
   ]
  },
  {
   "cell_type": "code",
   "execution_count": 122,
   "id": "59019a6c",
   "metadata": {},
   "outputs": [
    {
     "name": "stdout",
     "output_type": "stream",
     "text": [
      "enter the n value10\n",
      "10 is EVEN NUMBER\n"
     ]
    }
   ],
   "source": [
    "n=int(input(\"enter the n value\"))\n",
    "if n>0:\n",
    "    print(n,\"is EVEN NUMBER\")\n",
    "elif n<0:\n",
    "    print(\"{} is ODD NUMBER\",n)\n",
    "else:\n",
    "    print(\"this is natural number\",n)"
   ]
  },
  {
   "cell_type": "code",
   "execution_count": 126,
   "id": "8746fd32",
   "metadata": {},
   "outputs": [
    {
     "name": "stdout",
     "output_type": "stream",
     "text": [
      "enter the n number0\n",
      "THIS IS EVEN NUMBER\n"
     ]
    }
   ],
   "source": [
    "n=int(input(\"enter the n number\"))\n",
    "if n==0:\n",
    "    print(\"THIS IS EVEN NUMBER\")\n",
    "elif n%2==0:\n",
    "    print(\"this is even number\")\n",
    "else:\n",
    "    print(\"THIS IS ODD NUMBER\")\n",
    "    "
   ]
  },
  {
   "cell_type": "code",
   "execution_count": 128,
   "id": "2abb7889",
   "metadata": {},
   "outputs": [
    {
     "name": "stdout",
     "output_type": "stream",
     "text": [
      "THIS IS FALSE BLOCK\n"
     ]
    }
   ],
   "source": [
    "# Python Nested if Statement\n",
    "n=0\n",
    "if n>=0:\n",
    "    if n==5:\n",
    "        print('THIS BLOCK IF TRUE BLOCK')\n",
    "    else:\n",
    "        print('THIS IS FALSE BLOCK')\n",
    "else:\n",
    "    print('THIS BLOCK IS NOT EXECUTED')\n",
    "        "
   ]
  },
  {
   "cell_type": "markdown",
   "id": "b02493d8",
   "metadata": {},
   "source": [
    "### iterative statements--while,for():\n",
    "#### while loop():"
   ]
  },
  {
   "cell_type": "code",
   "execution_count": null,
   "id": "bcec45d8",
   "metadata": {},
   "outputs": [],
   "source": [
    "##While loop statements in Python are used to repeatedly execute a certain statement as long as the\n",
    "#condition provided in the while loop statement stays true\n",
    "##---Python While Loop is used to execute a block of statements repeatedly until a given condition is satisfied.\n",
    "Syntax: \n",
    "while expression:\n",
    "    statement(s)"
   ]
  },
  {
   "cell_type": "code",
   "execution_count": 5,
   "id": "2ee36a53",
   "metadata": {},
   "outputs": [
    {
     "name": "stdout",
     "output_type": "stream",
     "text": [
      "THIS IS TRUE BLOCK: 1\n",
      "THIS IS TRUE BLOCK: 2\n",
      "THIS IS TRUE BLOCK: 3\n",
      "THIS IS TRUE BLOCK: 4\n",
      "THIS IS TRUE BLOCK: 5\n",
      "THIS IS TRUE BLOCK: 6\n",
      "THIS IS TRUE BLOCK: 7\n",
      "THIS IS TRUE BLOCK: 8\n",
      "THIS IS TRUE BLOCK: 9\n",
      "THIS IS TRUE BLOCK: 10\n"
     ]
    }
   ],
   "source": [
    "count=1\n",
    "while count<=10:\n",
    "    print(\"THIS IS TRUE BLOCK:\",count)\n",
    "    count+=1"
   ]
  },
  {
   "cell_type": "code",
   "execution_count": 6,
   "id": "8b3e2d51",
   "metadata": {},
   "outputs": [
    {
     "name": "stdout",
     "output_type": "stream",
     "text": [
      "HELLO: 0\n",
      "HELLO: 1\n",
      "HELLO: 2\n",
      "HELLO: 3\n",
      "HELLO: 4\n",
      "HELLO: 5\n",
      "GOOD BYE!\n"
     ]
    }
   ],
   "source": [
    "n=0\n",
    "while n<=5:\n",
    "    print(\"HELLO :\",n)\n",
    "    n+=1\n",
    "print(\"GOOD BYE!\")    \n",
    "    "
   ]
  },
  {
   "cell_type": "code",
   "execution_count": 1,
   "id": "4253debc",
   "metadata": {},
   "outputs": [
    {
     "name": "stdout",
     "output_type": "stream",
     "text": [
      "SATYA: 1\n",
      "SATYA: 2\n",
      "SATYA: 3\n"
     ]
    }
   ],
   "source": [
    "a=1\n",
    "while(a<=3):\n",
    "    print('SATYA:',a)\n",
    "    a+=1"
   ]
  },
  {
   "cell_type": "code",
   "execution_count": null,
   "id": "112309ce",
   "metadata": {},
   "outputs": [],
   "source": [
    "num=5\n",
    "while(num>=-1):\n",
    "    print(\"0 less than 5:\",num)\n",
    "    num-=1\n",
    "else:\n",
    "    print('5 is not less than 5')"
   ]
  },
  {
   "cell_type": "code",
   "execution_count": null,
   "id": "dcc3f7a1",
   "metadata": {},
   "outputs": [
    {
     "name": "stdout",
     "output_type": "stream",
     "text": [
      "ENTER A NUM:10\n",
      "youe enterd: 10\n",
      "ENTER A NUM:29\n",
      "youe enterd: 29\n",
      "ENTER A NUM:30\n",
      "youe enterd: 30\n"
     ]
    }
   ],
   "source": [
    "var=1\n",
    "while (var==1):\n",
    "    var_num=input('ENTER A NUM:')\n",
    "    print('youe enterd:',var_num)    "
   ]
  },
  {
   "cell_type": "code",
   "execution_count": 3,
   "id": "9bc6e9bc",
   "metadata": {
    "scrolled": true
   },
   "outputs": [
    {
     "name": "stdout",
     "output_type": "stream",
     "text": [
      "mango\n",
      "banana\n",
      "apple\n"
     ]
    }
   ],
   "source": [
    "a=['apple','banana','mango']\n",
    "while(a):\n",
    "    print(a.pop(-1))"
   ]
  },
  {
   "cell_type": "code",
   "execution_count": null,
   "id": "d1f1b26a",
   "metadata": {},
   "outputs": [],
   "source": [
    "i=0\n",
    "while i<=10:\n",
    "    i+=1\n",
    "    if i==2:\n",
    "        \n",
    "        break"
   ]
  },
  {
   "cell_type": "code",
   "execution_count": null,
   "id": "c66f3d3f",
   "metadata": {},
   "outputs": [],
   "source": [
    "i=0 \n",
    "while i<=6:\n",
    "    i += 1\n",
    "    if i==3:\n",
    "        continue\n",
    "        print(i)"
   ]
  },
  {
   "cell_type": "code",
   "execution_count": null,
   "id": "9de71022",
   "metadata": {},
   "outputs": [],
   "source": [
    "## program to calculate the sum of numbers\n",
    "# until the user enters zero\n",
    "total=0\n",
    "n=int(input(\"enter a number\"))\n",
    "while n != 0:\n",
    "    total=total+n\n",
    "    num=input(\"enter a NUMBER\")\n",
    "    print(\"total\",total)"
   ]
  },
  {
   "cell_type": "code",
   "execution_count": null,
   "id": "46a44342",
   "metadata": {},
   "outputs": [],
   "source": [
    "i=0 \n",
    "while i<=6:\n",
    "    i += 1\n",
    "    if i==3:\n",
    "        continue\n",
    "        print(i)"
   ]
  },
  {
   "cell_type": "code",
   "execution_count": null,
   "id": "8e7bf6ca",
   "metadata": {},
   "outputs": [
    {
     "name": "stdout",
     "output_type": "stream",
     "text": [
      "WHAT IS YOUR NAME?satya\n",
      "hi satya welcome to while lopp\n",
      "WHAT IS YOUR NAME?vamsi\n",
      "hi vamsi welcome to while lopp\n"
     ]
    }
   ],
   "source": [
    "#Infinite While Loop in Python\n",
    "a=1\n",
    "while a==1:\n",
    "    b=input(\"WHAT IS YOUR NAME?\")\n",
    "    print('hi',b,\"welcome to while lopp\")\n",
    "    "
   ]
  },
  {
   "cell_type": "code",
   "execution_count": null,
   "id": "513f691a",
   "metadata": {},
   "outputs": [],
   "source": [
    "s=1\n",
    "while s==1:\n",
    "    a=input(\"what is your name?\")\n",
    "    print(\"Hi\",a,'how are you')"
   ]
  },
  {
   "cell_type": "code",
   "execution_count": null,
   "id": "b93f7b86",
   "metadata": {},
   "outputs": [],
   "source": [
    "s=1\n",
    "while s==1:\n",
    "    a=input(\"what is your name?\")\n",
    "    print(\"Hi\",a,'how are you')"
   ]
  },
  {
   "cell_type": "code",
   "execution_count": null,
   "id": "3a82365d",
   "metadata": {},
   "outputs": [],
   "source": []
  },
  {
   "cell_type": "code",
   "execution_count": null,
   "id": "ec5f3402",
   "metadata": {},
   "outputs": [],
   "source": []
  },
  {
   "cell_type": "markdown",
   "id": "36f978da",
   "metadata": {},
   "source": [
    "## FOR LOOP():"
   ]
  },
  {
   "cell_type": "code",
   "execution_count": null,
   "id": "315a8db3",
   "metadata": {},
   "outputs": [],
   "source": [
    "##A for loop is used for iterating over a sequence (that is either a list, a tuple, a dictionary, a set, or a string).\n",
    "#"
   ]
  }
 ],
 "metadata": {
  "kernelspec": {
   "display_name": "Python 3 (ipykernel)",
   "language": "python",
   "name": "python3"
  },
  "language_info": {
   "codemirror_mode": {
    "name": "ipython",
    "version": 3
   },
   "file_extension": ".py",
   "mimetype": "text/x-python",
   "name": "python",
   "nbconvert_exporter": "python",
   "pygments_lexer": "ipython3",
   "version": "3.9.13"
  }
 },
 "nbformat": 4,
 "nbformat_minor": 5
}
